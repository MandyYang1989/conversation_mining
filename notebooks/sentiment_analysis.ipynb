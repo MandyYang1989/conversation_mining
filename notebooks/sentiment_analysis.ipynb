{
 "cells": [
  {
   "cell_type": "code",
   "execution_count": 1,
   "metadata": {},
   "outputs": [],
   "source": [
    "\"\"\"\n",
    "A script to annotate the dialog data with sentiment \n",
    "\"\"\"\n",
    "#This is how to install packages\n",
    "import sys\n",
    "#!{sys.executable} -m pip install vaderSentiment\n",
    "#!{sys.executable} -m pip install pymongo"
   ]
  },
  {
   "cell_type": "code",
   "execution_count": 2,
   "metadata": {},
   "outputs": [
    {
     "name": "stdout",
     "output_type": "stream",
     "text": [
      "Catch utf-8 emoji such as such as 💘 and 💋 and 😁------------------ {'neg': 0.0, 'neu': 0.746, 'pos': 0.254, 'compound': 0.7003}\n",
      "Not bad at all--------------------------------------------------- {'neg': 0.0, 'neu': 0.513, 'pos': 0.487, 'compound': 0.431}\n",
      "I hate this stuff------------------------------------------------ {'neg': 0.649, 'neu': 0.351, 'pos': 0.0, 'compound': -0.5719}\n",
      "Not nice--------------------------------------------------------- {'neg': 0.7, 'neu': 0.3, 'pos': 0.0, 'compound': -0.3252}\n"
     ]
    }
   ],
   "source": [
    "\"\"\"\n",
    "Some examples of the code\n",
    "\"\"\"\n",
    "from vaderSentiment.vaderSentiment import SentimentIntensityAnalyzer\n",
    "#note: depending on how you installed (e.g., using source code download versus pip install), you may need to import like this:\n",
    "#from vaderSentiment import SentimentIntensityAnalyzer\n",
    "\n",
    "# --- examples -------\n",
    "sentences = [\"Catch utf-8 emoji such as such as 💘 and 💋 and 😁\",  # emojis handled\n",
    "             \"Not bad at all\",  # Capitalized negation\n",
    "             \"I hate this stuff\",\n",
    "             \"Not nice\"\n",
    "             ]\n",
    "\n",
    "analyzer = SentimentIntensityAnalyzer()\n",
    "for sentence in sentences:\n",
    "    vs = analyzer.polarity_scores(sentence)\n",
    "    print(\"{:-<65} {}\".format(sentence, str(vs)))"
   ]
  },
  {
   "cell_type": "code",
   "execution_count": 3,
   "metadata": {},
   "outputs": [
    {
     "name": "stdout",
     "output_type": "stream",
     "text": [
      "Connection success.\n"
     ]
    }
   ],
   "source": [
    "# here is connection to the db\n",
    "# set up connection to the MongoDB: sudo service mongod start (27017 is the default port)\n",
    "from pymongo import MongoClient\n",
    "import json\n",
    "\n",
    "class Mongo_Connector():\n",
    "    '''\n",
    "    Wrapper class for some of the pymongo functions: http://api.mongodb.com/python/current/tutorial.html\n",
    "    '''\n",
    "\n",
    "    def __init__(self, db_name):\n",
    "        # spin up database\n",
    "        self.mongo_client = MongoClient()\n",
    "        self.db = self.mongo_client[db_name]\n",
    "        print(\"Connection success.\")\n",
    "    \n",
    "    def count_all_docs(self, collection_name):\n",
    "        count = self.db[collection_name].count_documents({})\n",
    "        print (\"%d dialogues in %s\" % (count, collection_name))\n",
    "    \n",
    "    def bulk_load(self, collection_name, json_file_path, chunk_size=1000):\n",
    "        '''\n",
    "        Imports a big dataset from a single JSON file\n",
    "        '''\n",
    "        # load JSON\n",
    "        with open(json_file_path) as f:\n",
    "            all_docs = json.loads(f.read())\n",
    "        \n",
    "        n_docs = len(all_docs)\n",
    "        print(\"Loading %d dialogues\"%n_docs)\n",
    "                \n",
    "        # iterate over the docs\n",
    "        chunk = []\n",
    "        for _id, dialogue in all_docs.items():\n",
    "            dialogue['_id'] = _id\n",
    "            chunk.append(dialogue)\n",
    "            if len(chunk) == chunk_size:\n",
    "                # insert chunk   \n",
    "                self.db[collection_name].insert_many(chunk)\n",
    "                chunk = []\n",
    "        # insert the last chunk\n",
    "        if chunk:\n",
    "            self.db[collection_name].insert_many(chunk)\n",
    "\n",
    "        # show the doc counter\n",
    "        self.count_all_docs(collection_name)\n",
    "\n",
    "\n",
    "db_name = 'cm'\n",
    "mongo = Mongo_Connector(db_name)"
   ]
  },
  {
   "cell_type": "code",
   "execution_count": 4,
   "metadata": {},
   "outputs": [],
   "source": [
    "# here to annotate the dstc6 messages\n",
    "\n",
    "collection = mongo.db['dstc6']\n",
    "cursor = collection.find({})\n",
    "#varI = cursor[0]\n",
    "#print(varI)"
   ]
  },
  {
   "cell_type": "code",
   "execution_count": 5,
   "metadata": {},
   "outputs": [
    {
     "name": "stdout",
     "output_type": "stream",
     "text": [
      "document 0 annotaed\n",
      "document 10 annotaed\n",
      "document 20 annotaed\n",
      "document 30 annotaed\n",
      "document 40 annotaed\n",
      "document 50 annotaed\n",
      "document 60 annotaed\n",
      "document 70 annotaed\n",
      "document 80 annotaed\n",
      "document 90 annotaed\n"
     ]
    }
   ],
   "source": [
    "count = 0\n",
    "for document in cursor:\n",
    "    doc = document\n",
    "    id = doc['_id']\n",
    "    for i in range(len(doc['turns'])):\n",
    "        ut = doc['turns'][i]\n",
    "        vs = analyzer.polarity_scores(doc['turns'][i]['utterance'])\n",
    "        if vs['neg'] > vs['pos'] and vs['neg'] > vs['neu']: \n",
    "            doc['turns'][i]['sentiment'] = 'N'\n",
    "        elif vs['pos'] > vs['neg'] and vs['pos'] > vs['neu']:\n",
    "            doc['turns'][i]['sentiment'] = 'P'\n",
    "        else:\n",
    "            doc['turns'][i]['sentiment'] = 'Ne'\n",
    "    collection.update_one({'_id': id}, {\"$set\": doc}, upsert=True)\n",
    "    if count % 10 ==0: print(\"document \" + str(count) + \" annotaed\")\n",
    "    count += 1"
   ]
  },
  {
   "cell_type": "code",
   "execution_count": 4,
   "metadata": {},
   "outputs": [],
   "source": [
    "# the msdialog sentiment annotation\n",
    "\n",
    "collection = mongo.db['msdialog']\n",
    "cursor = collection.find({})"
   ]
  },
  {
   "cell_type": "code",
   "execution_count": 5,
   "metadata": {},
   "outputs": [
    {
     "name": "stdout",
     "output_type": "stream",
     "text": [
      "document 0 annotaed\n",
      "document 5000 annotaed\n",
      "document 10000 annotaed\n",
      "document 15000 annotaed\n",
      "document 20000 annotaed\n",
      "document 25000 annotaed\n",
      "document 30000 annotaed\n",
      "document 35000 annotaed\n"
     ]
    }
   ],
   "source": [
    "count = 0\n",
    "for document in cursor:\n",
    "    doc = document\n",
    "    id = doc['_id']\n",
    "    for i in range(len(doc['utterances'])):\n",
    "        ut = doc['utterances'][i]\n",
    "        vs = analyzer.polarity_scores(doc['utterances'][i]['utterance'])\n",
    "        if vs['neg'] > vs['pos'] and vs['neg'] > vs['neu']: \n",
    "            doc['utterances'][i]['sentiment'] = 'N'\n",
    "        elif vs['pos'] > vs['neg'] and vs['pos'] > vs['neu']:\n",
    "            doc['utterances'][i]['sentiment'] = 'P'\n",
    "        else:\n",
    "            doc['utterances'][i]['sentiment'] = 'Ne'\n",
    "    collection.update_one({'_id': id}, {\"$set\": doc}, upsert=True)\n",
    "    if count % 5000 ==0: print(\"document \" + str(count) + \" annotaed\")\n",
    "    count += 1"
   ]
  },
  {
   "cell_type": "code",
   "execution_count": 25,
   "metadata": {},
   "outputs": [
    {
     "name": "stdout",
     "output_type": "stream",
     "text": [
      "P\n"
     ]
    }
   ],
   "source": [
    "# testing if the dstc6 messages are annotated now\n",
    "\n",
    "collection = mongo.db['dstc6']\n",
    "cursor = collection.find({})\n",
    "print (cursor[0]['turns'][10]['sentiment'])"
   ]
  },
  {
   "cell_type": "code",
   "execution_count": 26,
   "metadata": {},
   "outputs": [
    {
     "name": "stdout",
     "output_type": "stream",
     "text": [
      "Ne\n"
     ]
    }
   ],
   "source": [
    "# testing if the dstc6 messages are annotated now\n",
    "\n",
    "collection = mongo.db['msdialog']\n",
    "cursor = collection.find({})\n",
    "print (cursor[0]['utterances'][0]['sentiment'])"
   ]
  }
 ],
 "metadata": {
  "kernelspec": {
   "display_name": "Python 3",
   "language": "python",
   "name": "python3"
  },
  "language_info": {
   "codemirror_mode": {
    "name": "ipython",
    "version": 3
   },
   "file_extension": ".py",
   "mimetype": "text/x-python",
   "name": "python",
   "nbconvert_exporter": "python",
   "pygments_lexer": "ipython3",
   "version": "3.7.0"
  }
 },
 "nbformat": 4,
 "nbformat_minor": 2
}
