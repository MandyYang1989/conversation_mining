{
 "cells": [
  {
   "cell_type": "markdown",
   "metadata": {},
   "source": [
    "# Frequent Sequence Mining"
   ]
  },
  {
   "cell_type": "markdown",
   "metadata": {},
   "source": [
    "## Algorithm\n",
    "### Suffix Array"
   ]
  },
  {
   "cell_type": "code",
   "execution_count": 3,
   "metadata": {
    "collapsed": false
   },
   "outputs": [
    {
     "name": "stdout",
     "output_type": "stream",
     "text": [
      "['banana', 'anaK']\n"
     ]
    }
   ],
   "source": [
    "test_string = 'banana\\nanaK'\n",
    "test_strings = test_string.split('\\n')\n",
    "print(test_strings)"
   ]
  },
  {
   "cell_type": "code",
   "execution_count": 4,
   "metadata": {
    "collapsed": false
   },
   "outputs": [
    {
     "data": {
      "text/plain": [
       "['banana\\nanaK',\n",
       " 'anana\\nanaK',\n",
       " 'nana\\nanaK',\n",
       " 'ana\\nanaK',\n",
       " 'na\\nanaK',\n",
       " 'a\\nanaK',\n",
       " '\\nanaK',\n",
       " 'anaK',\n",
       " 'naK',\n",
       " 'aK',\n",
       " 'K']"
      ]
     },
     "execution_count": 4,
     "metadata": {},
     "output_type": "execute_result"
    }
   ],
   "source": [
    "# suffix array\n",
    "# https://louisabraham.github.io/notebooks/suffix_arrays.html\n",
    "\n",
    "def suffix_array_oneliner(s):\n",
    "    return [(suffix, rank) for suffix, rank in sorted((s[i:], i) for i in range(len(s)))]\n",
    "\n",
    "def suffix_array_wo_sort(s):\n",
    "    return [suffix for suffix in (s[i:] for i in range(len(s)))]\n",
    "\n",
    "suffix_array_wo_sort(test_string)"
   ]
  },
  {
   "cell_type": "markdown",
   "metadata": {},
   "source": [
    "### Frequent n-grams\n",
    "\n",
    "k-common substrings problem (generalisation of Longest_common_substring)  \n",
    "https://en.wikipedia.org/wiki/Longest_common_substring_problem\n",
    "\n",
    "Find the most frequent (longest) substring O(n log n): suffix array -> longest common prefix (LCP) array (**suffix tree**)\n",
    "https://mediatum.ub.tum.de/doc/1094574/1094574.pdf  \n",
    "https://cs.stackexchange.com/questions/9555/computing-the-longest-common-substring-of-two-strings-using-suffix-arrays\n",
    "http://www.roman10.net/2012/03/16/suffix-array-part-3-longest-common-substring-lcs/"
   ]
  },
  {
   "cell_type": "code",
   "execution_count": 6,
   "metadata": {
    "collapsed": false
   },
   "outputs": [
    {
     "name": "stdout",
     "output_type": "stream",
     "text": [
      "(['ana'], [2])\n"
     ]
    }
   ],
   "source": [
    "# https://stackoverflow.com/questions/40556491/how-to-find-the-longest-common-substring-of-multiple-strings\n",
    "from functools import partial, reduce\n",
    "from itertools import chain\n",
    "from typing import Iterator\n",
    "\n",
    "from collections import Counter\n",
    "\n",
    "\n",
    "def ngram(seq: str, n: int) -> Iterator[str]:\n",
    "    return (seq[i: i+n] for i in range(0, len(seq)-n+1))\n",
    "\n",
    "\n",
    "def allngram(seq: str, minn=1, maxn=None) -> Iterator[str]:\n",
    "    lengths = range(minn, maxn) if maxn else range(minn, len(seq))\n",
    "    ngrams = map(partial(ngram, seq), lengths)\n",
    "    return set(chain.from_iterable(ngrams))\n",
    "\n",
    "\n",
    "def frequent_ngrams(strings, min_support=None, topn=5):\n",
    "    # 1.split traces into ngrams\n",
    "    seqs_ngrams = map(allngram, strings)\n",
    "\n",
    "    # 2.count ngram frequencies\n",
    "    counts = Counter(chain.from_iterable(seqs_ngrams))\n",
    "\n",
    "    # 3.filter frequent substrings\n",
    "    # set frequency threshold if not specified\n",
    "    if not min_support:\n",
    "        most_frequent_s = [s for s, count in counts.most_common(topn)]\n",
    "        # maximum frequency\n",
    "#         most_frequent1 = counts.most_common(1)[0]\n",
    "#         min_support = most_frequent1[1]\n",
    "    else:\n",
    "#         print(min_support)\n",
    "        most_frequent={string: count for string, count in counts.items() if count >= min_support}\n",
    "    #     print(most_frequent)\n",
    "        most_frequent_s = list(most_frequent.keys())\n",
    "\n",
    "    # 4.drop substrings\n",
    "    most_frequent_s.sort(key=len, reverse=True)\n",
    "#     print(most_frequent_s)\n",
    "    lfss = [most_frequent_s[0]]\n",
    "    for s in most_frequent_s[1:]:\n",
    "        overlap = False\n",
    "        for lfs in lfss:\n",
    "            if s in lfs:\n",
    "                overlap = True\n",
    "                break\n",
    "        if not overlap:\n",
    "            lfss.append(s)\n",
    "    # result: longest frequent substrings with counts\n",
    "    return lfss, [counts[s] for s in lfss]\n",
    "\n",
    "\n",
    "print(frequent_ngrams(test_strings))"
   ]
  },
  {
   "cell_type": "markdown",
   "metadata": {},
   "source": [
    "## Mine Conversation Log"
   ]
  },
  {
   "cell_type": "code",
   "execution_count": 23,
   "metadata": {
    "collapsed": false
   },
   "outputs": [
    {
     "ename": "MissingSchema",
     "evalue": "Invalid URL '../data/scs/original_scs.stringenc.txt': No schema supplied. Perhaps you meant http://../data/scs/original_scs.stringenc.txt?",
     "output_type": "error",
     "traceback": [
      "\u001b[0;31m---------------------------------------------------------------------------\u001b[0m",
      "\u001b[0;31mMissingSchema\u001b[0m                             Traceback (most recent call last)",
      "\u001b[0;32m<ipython-input-23-f283011b45fd>\u001b[0m in \u001b[0;36m<module>\u001b[0;34m\u001b[0m\n\u001b[1;32m      3\u001b[0m \u001b[0mdata_path\u001b[0m \u001b[0;34m=\u001b[0m \u001b[0;34m\"../data/scs/\"\u001b[0m\u001b[0;34m\u001b[0m\u001b[0m\n\u001b[1;32m      4\u001b[0m \u001b[0mtraces_path\u001b[0m \u001b[0;34m=\u001b[0m \u001b[0;34m\"original_scs.stringenc.txt\"\u001b[0m\u001b[0;34m\u001b[0m\u001b[0m\n\u001b[0;32m----> 5\u001b[0;31m \u001b[0mlog_string\u001b[0m \u001b[0;34m=\u001b[0m \u001b[0mrequests\u001b[0m\u001b[0;34m.\u001b[0m\u001b[0mget\u001b[0m\u001b[0;34m(\u001b[0m\u001b[0mdata_path\u001b[0m\u001b[0;34m+\u001b[0m\u001b[0mtraces_path\u001b[0m\u001b[0;34m)\u001b[0m\u001b[0;34m.\u001b[0m\u001b[0mtext\u001b[0m\u001b[0;34m\u001b[0m\u001b[0m\n\u001b[0m\u001b[1;32m      6\u001b[0m \u001b[0;31m# print(len(log_string))\u001b[0m\u001b[0;34m\u001b[0m\u001b[0;34m\u001b[0m\u001b[0m\n\u001b[1;32m      7\u001b[0m \u001b[0;31m# experiment on a log snippet\u001b[0m\u001b[0;34m\u001b[0m\u001b[0;34m\u001b[0m\u001b[0m\n",
      "\u001b[0;32m//anaconda/envs/allennlp/lib/python3.6/site-packages/requests/api.py\u001b[0m in \u001b[0;36mget\u001b[0;34m(url, params, **kwargs)\u001b[0m\n\u001b[1;32m     73\u001b[0m \u001b[0;34m\u001b[0m\u001b[0m\n\u001b[1;32m     74\u001b[0m     \u001b[0mkwargs\u001b[0m\u001b[0;34m.\u001b[0m\u001b[0msetdefault\u001b[0m\u001b[0;34m(\u001b[0m\u001b[0;34m'allow_redirects'\u001b[0m\u001b[0;34m,\u001b[0m \u001b[0;32mTrue\u001b[0m\u001b[0;34m)\u001b[0m\u001b[0;34m\u001b[0m\u001b[0m\n\u001b[0;32m---> 75\u001b[0;31m     \u001b[0;32mreturn\u001b[0m \u001b[0mrequest\u001b[0m\u001b[0;34m(\u001b[0m\u001b[0;34m'get'\u001b[0m\u001b[0;34m,\u001b[0m \u001b[0murl\u001b[0m\u001b[0;34m,\u001b[0m \u001b[0mparams\u001b[0m\u001b[0;34m=\u001b[0m\u001b[0mparams\u001b[0m\u001b[0;34m,\u001b[0m \u001b[0;34m**\u001b[0m\u001b[0mkwargs\u001b[0m\u001b[0;34m)\u001b[0m\u001b[0;34m\u001b[0m\u001b[0m\n\u001b[0m\u001b[1;32m     76\u001b[0m \u001b[0;34m\u001b[0m\u001b[0m\n\u001b[1;32m     77\u001b[0m \u001b[0;34m\u001b[0m\u001b[0m\n",
      "\u001b[0;32m//anaconda/envs/allennlp/lib/python3.6/site-packages/requests/api.py\u001b[0m in \u001b[0;36mrequest\u001b[0;34m(method, url, **kwargs)\u001b[0m\n\u001b[1;32m     58\u001b[0m     \u001b[0;31m# cases, and look like a memory leak in others.\u001b[0m\u001b[0;34m\u001b[0m\u001b[0;34m\u001b[0m\u001b[0m\n\u001b[1;32m     59\u001b[0m     \u001b[0;32mwith\u001b[0m \u001b[0msessions\u001b[0m\u001b[0;34m.\u001b[0m\u001b[0mSession\u001b[0m\u001b[0;34m(\u001b[0m\u001b[0;34m)\u001b[0m \u001b[0;32mas\u001b[0m \u001b[0msession\u001b[0m\u001b[0;34m:\u001b[0m\u001b[0;34m\u001b[0m\u001b[0m\n\u001b[0;32m---> 60\u001b[0;31m         \u001b[0;32mreturn\u001b[0m \u001b[0msession\u001b[0m\u001b[0;34m.\u001b[0m\u001b[0mrequest\u001b[0m\u001b[0;34m(\u001b[0m\u001b[0mmethod\u001b[0m\u001b[0;34m=\u001b[0m\u001b[0mmethod\u001b[0m\u001b[0;34m,\u001b[0m \u001b[0murl\u001b[0m\u001b[0;34m=\u001b[0m\u001b[0murl\u001b[0m\u001b[0;34m,\u001b[0m \u001b[0;34m**\u001b[0m\u001b[0mkwargs\u001b[0m\u001b[0;34m)\u001b[0m\u001b[0;34m\u001b[0m\u001b[0m\n\u001b[0m\u001b[1;32m     61\u001b[0m \u001b[0;34m\u001b[0m\u001b[0m\n\u001b[1;32m     62\u001b[0m \u001b[0;34m\u001b[0m\u001b[0m\n",
      "\u001b[0;32m//anaconda/envs/allennlp/lib/python3.6/site-packages/requests/sessions.py\u001b[0m in \u001b[0;36mrequest\u001b[0;34m(self, method, url, params, data, headers, cookies, files, auth, timeout, allow_redirects, proxies, hooks, stream, verify, cert, json)\u001b[0m\n\u001b[1;32m    508\u001b[0m             \u001b[0mhooks\u001b[0m\u001b[0;34m=\u001b[0m\u001b[0mhooks\u001b[0m\u001b[0;34m,\u001b[0m\u001b[0;34m\u001b[0m\u001b[0m\n\u001b[1;32m    509\u001b[0m         )\n\u001b[0;32m--> 510\u001b[0;31m         \u001b[0mprep\u001b[0m \u001b[0;34m=\u001b[0m \u001b[0mself\u001b[0m\u001b[0;34m.\u001b[0m\u001b[0mprepare_request\u001b[0m\u001b[0;34m(\u001b[0m\u001b[0mreq\u001b[0m\u001b[0;34m)\u001b[0m\u001b[0;34m\u001b[0m\u001b[0m\n\u001b[0m\u001b[1;32m    511\u001b[0m \u001b[0;34m\u001b[0m\u001b[0m\n\u001b[1;32m    512\u001b[0m         \u001b[0mproxies\u001b[0m \u001b[0;34m=\u001b[0m \u001b[0mproxies\u001b[0m \u001b[0;32mor\u001b[0m \u001b[0;34m{\u001b[0m\u001b[0;34m}\u001b[0m\u001b[0;34m\u001b[0m\u001b[0m\n",
      "\u001b[0;32m//anaconda/envs/allennlp/lib/python3.6/site-packages/requests/sessions.py\u001b[0m in \u001b[0;36mprepare_request\u001b[0;34m(self, request)\u001b[0m\n\u001b[1;32m    451\u001b[0m             \u001b[0mauth\u001b[0m\u001b[0;34m=\u001b[0m\u001b[0mmerge_setting\u001b[0m\u001b[0;34m(\u001b[0m\u001b[0mauth\u001b[0m\u001b[0;34m,\u001b[0m \u001b[0mself\u001b[0m\u001b[0;34m.\u001b[0m\u001b[0mauth\u001b[0m\u001b[0;34m)\u001b[0m\u001b[0;34m,\u001b[0m\u001b[0;34m\u001b[0m\u001b[0m\n\u001b[1;32m    452\u001b[0m             \u001b[0mcookies\u001b[0m\u001b[0;34m=\u001b[0m\u001b[0mmerged_cookies\u001b[0m\u001b[0;34m,\u001b[0m\u001b[0;34m\u001b[0m\u001b[0m\n\u001b[0;32m--> 453\u001b[0;31m             \u001b[0mhooks\u001b[0m\u001b[0;34m=\u001b[0m\u001b[0mmerge_hooks\u001b[0m\u001b[0;34m(\u001b[0m\u001b[0mrequest\u001b[0m\u001b[0;34m.\u001b[0m\u001b[0mhooks\u001b[0m\u001b[0;34m,\u001b[0m \u001b[0mself\u001b[0m\u001b[0;34m.\u001b[0m\u001b[0mhooks\u001b[0m\u001b[0;34m)\u001b[0m\u001b[0;34m,\u001b[0m\u001b[0;34m\u001b[0m\u001b[0m\n\u001b[0m\u001b[1;32m    454\u001b[0m         )\n\u001b[1;32m    455\u001b[0m         \u001b[0;32mreturn\u001b[0m \u001b[0mp\u001b[0m\u001b[0;34m\u001b[0m\u001b[0m\n",
      "\u001b[0;32m//anaconda/envs/allennlp/lib/python3.6/site-packages/requests/models.py\u001b[0m in \u001b[0;36mprepare\u001b[0;34m(self, method, url, headers, files, data, params, auth, cookies, hooks, json)\u001b[0m\n\u001b[1;32m    311\u001b[0m \u001b[0;34m\u001b[0m\u001b[0m\n\u001b[1;32m    312\u001b[0m         \u001b[0mself\u001b[0m\u001b[0;34m.\u001b[0m\u001b[0mprepare_method\u001b[0m\u001b[0;34m(\u001b[0m\u001b[0mmethod\u001b[0m\u001b[0;34m)\u001b[0m\u001b[0;34m\u001b[0m\u001b[0m\n\u001b[0;32m--> 313\u001b[0;31m         \u001b[0mself\u001b[0m\u001b[0;34m.\u001b[0m\u001b[0mprepare_url\u001b[0m\u001b[0;34m(\u001b[0m\u001b[0murl\u001b[0m\u001b[0;34m,\u001b[0m \u001b[0mparams\u001b[0m\u001b[0;34m)\u001b[0m\u001b[0;34m\u001b[0m\u001b[0m\n\u001b[0m\u001b[1;32m    314\u001b[0m         \u001b[0mself\u001b[0m\u001b[0;34m.\u001b[0m\u001b[0mprepare_headers\u001b[0m\u001b[0;34m(\u001b[0m\u001b[0mheaders\u001b[0m\u001b[0;34m)\u001b[0m\u001b[0;34m\u001b[0m\u001b[0m\n\u001b[1;32m    315\u001b[0m         \u001b[0mself\u001b[0m\u001b[0;34m.\u001b[0m\u001b[0mprepare_cookies\u001b[0m\u001b[0;34m(\u001b[0m\u001b[0mcookies\u001b[0m\u001b[0;34m)\u001b[0m\u001b[0;34m\u001b[0m\u001b[0m\n",
      "\u001b[0;32m//anaconda/envs/allennlp/lib/python3.6/site-packages/requests/models.py\u001b[0m in \u001b[0;36mprepare_url\u001b[0;34m(self, url, params)\u001b[0m\n\u001b[1;32m    385\u001b[0m             \u001b[0merror\u001b[0m \u001b[0;34m=\u001b[0m \u001b[0merror\u001b[0m\u001b[0;34m.\u001b[0m\u001b[0mformat\u001b[0m\u001b[0;34m(\u001b[0m\u001b[0mto_native_string\u001b[0m\u001b[0;34m(\u001b[0m\u001b[0murl\u001b[0m\u001b[0;34m,\u001b[0m \u001b[0;34m'utf8'\u001b[0m\u001b[0;34m)\u001b[0m\u001b[0;34m)\u001b[0m\u001b[0;34m\u001b[0m\u001b[0m\n\u001b[1;32m    386\u001b[0m \u001b[0;34m\u001b[0m\u001b[0m\n\u001b[0;32m--> 387\u001b[0;31m             \u001b[0;32mraise\u001b[0m \u001b[0mMissingSchema\u001b[0m\u001b[0;34m(\u001b[0m\u001b[0merror\u001b[0m\u001b[0;34m)\u001b[0m\u001b[0;34m\u001b[0m\u001b[0m\n\u001b[0m\u001b[1;32m    388\u001b[0m \u001b[0;34m\u001b[0m\u001b[0m\n\u001b[1;32m    389\u001b[0m         \u001b[0;32mif\u001b[0m \u001b[0;32mnot\u001b[0m \u001b[0mhost\u001b[0m\u001b[0;34m:\u001b[0m\u001b[0;34m\u001b[0m\u001b[0m\n",
      "\u001b[0;31mMissingSchema\u001b[0m: Invalid URL '../data/scs/original_scs.stringenc.txt': No schema supplied. Perhaps you meant http://../data/scs/original_scs.stringenc.txt?"
     ]
    }
   ],
   "source": [
    "# get conversation log\n",
    "import requests\n",
    "data_path = \"../data/scs/\"\n",
    "traces_path = \"original_scs.stringenc.txt\"\n",
    "log_string = requests.get(data_path+traces_path).text\n",
    "# print(len(log_string))\n",
    "# experiment on a log snippet\n",
    "log_snip = log_string[:200]\n",
    "print(log_snip)\n",
    "\n",
    "traces = log_string.split('\\n')\n",
    "print('\\n')\n",
    "print(\"%d traces\"%len(traces))\n",
    "print(traces[0])"
   ]
  },
  {
   "cell_type": "code",
   "execution_count": 19,
   "metadata": {
    "collapsed": false
   },
   "outputs": [
    {
     "ename": "TypeError",
     "evalue": "frequent_ngrams() got an unexpected keyword argument 'topn'",
     "output_type": "error",
     "traceback": [
      "\u001b[0;31m---------------------------------------------------------------------------\u001b[0m",
      "\u001b[0;31mTypeError\u001b[0m                                 Traceback (most recent call last)",
      "\u001b[0;32m<ipython-input-19-22b592424cf5>\u001b[0m in \u001b[0;36m<module>\u001b[0;34m\u001b[0m\n\u001b[1;32m      1\u001b[0m \u001b[0;31m# dictionary: https://github.com/svakulenk0/conversation_mining/blob/master/data/1_dstc1.stringenc.dict.txt\u001b[0m\u001b[0;34m\u001b[0m\u001b[0;34m\u001b[0m\u001b[0m\n\u001b[0;32m----> 2\u001b[0;31m \u001b[0mprint\u001b[0m\u001b[0;34m(\u001b[0m\u001b[0mfrequent_ngrams\u001b[0m\u001b[0;34m(\u001b[0m\u001b[0mtraces\u001b[0m\u001b[0;34m,\u001b[0m \u001b[0mtopn\u001b[0m\u001b[0;34m=\u001b[0m\u001b[0;36m5\u001b[0m\u001b[0;34m)\u001b[0m\u001b[0;34m)\u001b[0m\u001b[0;34m\u001b[0m\u001b[0m\n\u001b[0m\u001b[1;32m      3\u001b[0m \u001b[0;31m# print(frequent_ngrams(traces, min_support=10000))  # TODO min support as a fraction of the number of traces\u001b[0m\u001b[0;34m\u001b[0m\u001b[0;34m\u001b[0m\u001b[0m\n\u001b[1;32m      4\u001b[0m \u001b[0;31m# TODO plot frequency distribution\u001b[0m\u001b[0;34m\u001b[0m\u001b[0;34m\u001b[0m\u001b[0m\n",
      "\u001b[0;31mTypeError\u001b[0m: frequent_ngrams() got an unexpected keyword argument 'topn'"
     ]
    }
   ],
   "source": [
    "# dictionary: https://github.com/svakulenk0/conversation_mining/blob/master/data/1_dstc1.stringenc.dict.txt\n",
    "print(frequent_ngrams(traces, topn=5))\n",
    "# print(frequent_ngrams(traces, min_support=10000))  # TODO min support as a fraction of the number of traces\n",
    "# TODO plot frequency distribution"
   ]
  },
  {
   "cell_type": "code",
   "execution_count": 1,
   "metadata": {
    "collapsed": true
   },
   "outputs": [],
   "source": [
    "# TODO look up sample traces\n"
   ]
  },
  {
   "cell_type": "code",
   "execution_count": 27,
   "metadata": {
    "collapsed": false
   },
   "outputs": [
    {
     "name": "stdout",
     "output_type": "stream",
     "text": [
      "Scanning document without modification -> Information request within document -> Within-Document search result -> Information request within document 4\n",
      "Information request within document -> Within-Document search result -> Information request within document -> Within-Document search result 4\n",
      "Scanning document without modification -> Information request within document -> Within-Document search result -> Confirms 4\n",
      "Initial information request -> Query refinement offer -> Intent clarification -> SERP without modification 3\n",
      "Confirms -> Scanning document without modification -> Information request within document -> Within-Document search result 3\n",
      "Access source -> Checks navigational command -> Confirms -> Scanning document without modification 3\n",
      "Within-Document search result -> Information request within document -> Within-Document search result -> Information request within document 3\n",
      "Confirms -> Scanning document without modification -> Confirms -> Confirms 3\n",
      "Query refinement offer -> Intent clarification -> Scanning document without modification -> Information request within document 3\n",
      "Information request within document -> Within-Document search result -> Information request within document -> Scanning document without modification 2\n",
      "Information request -> Query refinement offer -> Intent clarification -> Asks to repeat 2\n",
      "Confirms -> Information request -> Asks to repeat -> Confirms 2\n",
      "Access source -> Scanning document without modification -> Information request within document -> Within-Document search result 2\n",
      "SERP without modification -> Access source -> Source information -> Confirms 2\n",
      "Information request -> Query refinement offer -> Confirms -> SERP without modification 2\n",
      "Query refinement offer -> Confirms -> SERP without modification -> Access source 2\n",
      "Information request within document -> Within-Document search result -> Information request -> Asks to repeat 2\n",
      "Scanning document with modification -> Information request within document -> Within-Document search result -> Information request 2\n",
      "Information request within document -> Scanning document without modification -> Asks to repeat -> Confirms 2\n",
      "SERP without modification -> Access source -> Checks navigational command -> Confirms 2\n",
      "Checks navigational command -> Confirms -> Scanning document without modification -> Information request within document 2\n",
      "Confirms -> SERP without modification -> Access source -> Checks navigational command 2\n",
      "Information request within document -> Within-Document search result -> Performance feedback -> Within-document command 2\n",
      "Performance feedback -> Within-document command -> Within-Document search result -> Information request within document 2\n",
      "Within-Document search result -> Performance feedback -> Within-document command -> Within-Document search result 2\n",
      "Within-document command -> Within-Document search result -> Information request within document -> Within-Document search result 2\n",
      "Initial information request -> Asks to repeat -> Query repeat -> SERP without modification 2\n",
      "Asks to repeat -> Repeats -> Information request within document -> Within-Document search result 2\n",
      "Scanning document without modification -> Confirms -> Confirms -> Information request 2\n",
      "Confirms -> Information request within document -> Within-Document search result -> Confirms 2\n",
      "Access source -> Scanning document without modification -> Asks to repeat -> Repeats 2\n",
      "Asks to repeat -> Confirms -> Information request within document -> Within-Document search result 2\n",
      "Query refinement offer -> Confirms -> SERP without modification -> Query refinement offer 2\n",
      "Information request within document -> Within-Document search result -> Confirms -> Information Request 2\n",
      "Query refinement offer -> Intent clarification -> SERP without modification -> Query refinement offer 2\n",
      "Within-Document search result -> Confirms -> Information Request -> Query refinement offer 2\n",
      "Confirms -> Information Request -> Query refinement offer -> Confirms 2\n",
      "Confirms -> SERP with modification -> Information request -> Query refinement offer 2\n",
      "Scanning document without modification -> Confirms -> Scanning document without modification -> Confirms 2\n",
      "Confirms -> Scanning document without modification -> Confirms -> Scanning document without modification 2\n",
      "Query refinement offer -> Intent clarification -> Query refinement offer -> Intent clarification 2\n",
      "Scanning document without modification -> Confirms -> Scanning document without modification -> Information request within document 2\n",
      "Information request within document -> Asks to repeat -> Information request within document -> Within-Document search result 2\n",
      "Confirms -> Scanning document with modification -> Information request within document -> Within-Document search result 2\n",
      "Intent clarification -> Scanning document without modification -> Confirms -> Scanning document without modification 2\n"
     ]
    }
   ],
   "source": [
    "# collect ngrams\n",
    "from functools import partial, reduce\n",
    "from itertools import chain\n",
    "from typing import Iterator\n",
    "\n",
    "from collections import Counter\n",
    "\n",
    "\n",
    "def ngram(seq: str, n: int) -> Iterator[str]:\n",
    "    return (seq[i: i+n] for i in range(0, len(seq)-n+1))\n",
    "\n",
    "def allngram(seq: str, minn=4, maxn=5) -> Iterator[str]:\n",
    "    lengths = range(minn, maxn) if maxn else range(minn, len(seq))\n",
    "    ngrams = map(partial(ngram, seq), lengths)\n",
    "    return set(chain.from_iterable(ngrams))\n",
    "\n",
    "\n",
    "def frequent_ngrams(strings, min_support=2):\n",
    "    # 1.split traces into ngrams\n",
    "    seqs_ngrams = map(allngram, strings)\n",
    "\n",
    "    # 2.count ngram frequencies\n",
    "    counts = Counter(chain.from_iterable(seqs_ngrams))\n",
    "    most_frequent={string: count for string, count in counts.items() if count >= min_support}\n",
    "    sorted_patterns_keys = sorted(most_frequent, reverse=True, key=most_frequent.get)\n",
    "    \n",
    "    # load vocabulary to decode patterns\n",
    "    vocabulary = {'<': 'START', '>': 'END'}\n",
    "    # look-up default location\n",
    "    vocabulary_path = traces_path.split('.')[0] + '.vocabulary.txt'\n",
    "    with open(data_path+vocabulary_path) as v:\n",
    "        for line in v.readlines():\n",
    "#             print(line)\n",
    "            symbol = line[0]\n",
    "            label = line.strip('\\n')[2:]\n",
    "            vocabulary[symbol] = label\n",
    "    \n",
    "    for pattern in sorted_patterns_keys:\n",
    "        print(' -> '.join([vocabulary[s] for s in pattern]), most_frequent[pattern])\n",
    "#     return sorted_patterns_keys\n",
    "\n",
    "\n",
    "frequent_ngrams(traces)"
   ]
  },
  {
   "cell_type": "code",
   "execution_count": null,
   "metadata": {
    "collapsed": true
   },
   "outputs": [],
   "source": []
  }
 ],
 "metadata": {
  "anaconda-cloud": {},
  "kernelspec": {
   "display_name": "Python [conda env:allennlp]",
   "language": "python",
   "name": "conda-env-allennlp-py"
  },
  "language_info": {
   "codemirror_mode": {
    "name": "ipython",
    "version": 3
   },
   "file_extension": ".py",
   "mimetype": "text/x-python",
   "name": "python",
   "nbconvert_exporter": "python",
   "pygments_lexer": "ipython3",
   "version": "3.6.2"
  }
 },
 "nbformat": 4,
 "nbformat_minor": 2
}
