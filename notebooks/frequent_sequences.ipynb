{
 "cells": [
  {
   "cell_type": "markdown",
   "metadata": {},
   "source": [
    "# Frequent Sequence Mining"
   ]
  },
  {
   "cell_type": "markdown",
   "metadata": {},
   "source": [
    "## Algorithm\n",
    "### Suffix Array"
   ]
  },
  {
   "cell_type": "code",
   "execution_count": 69,
   "metadata": {},
   "outputs": [
    {
     "name": "stdout",
     "output_type": "stream",
     "text": [
      "['banana', 'anaK']\n"
     ]
    }
   ],
   "source": [
    "test_string = 'banana\\nanaK'\n",
    "test_strings = test_string.split('\\n')\n",
    "print(test_strings)"
   ]
  },
  {
   "cell_type": "code",
   "execution_count": 20,
   "metadata": {},
   "outputs": [
    {
     "data": {
      "text/plain": [
       "['banana\\nanaK',\n",
       " 'anana\\nanaK',\n",
       " 'nana\\nanaK',\n",
       " 'ana\\nanaK',\n",
       " 'na\\nanaK',\n",
       " 'a\\nanaK',\n",
       " '\\nanaK',\n",
       " 'anaK',\n",
       " 'naK',\n",
       " 'aK',\n",
       " 'K']"
      ]
     },
     "execution_count": 20,
     "metadata": {},
     "output_type": "execute_result"
    }
   ],
   "source": [
    "# suffix array\n",
    "# https://louisabraham.github.io/notebooks/suffix_arrays.html\n",
    "\n",
    "def suffix_array_oneliner(s):\n",
    "    return [(suffix, rank) for suffix, rank in sorted((s[i:], i) for i in range(len(s)))]\n",
    "\n",
    "def suffix_array_wo_sort(s):\n",
    "    return [suffix for suffix in (s[i:] for i in range(len(s)))]\n",
    "\n",
    "suffix_array_wo_sort(test_string)"
   ]
  },
  {
   "cell_type": "markdown",
   "metadata": {},
   "source": [
    "### Frequent n-grams\n",
    "\n",
    "k-common substrings problem (generalisation of Longest_common_substring)  \n",
    "https://en.wikipedia.org/wiki/Longest_common_substring_problem\n",
    "\n",
    "Find the most frequent (longest) substring O(n log n): suffix array -> longest common prefix (LCP) array (**suffix tree**)\n",
    "https://mediatum.ub.tum.de/doc/1094574/1094574.pdf  \n",
    "https://cs.stackexchange.com/questions/9555/computing-the-longest-common-substring-of-two-strings-using-suffix-arrays\n",
    "http://www.roman10.net/2012/03/16/suffix-array-part-3-longest-common-substring-lcs/"
   ]
  },
  {
   "cell_type": "code",
   "execution_count": 85,
   "metadata": {},
   "outputs": [
    {
     "name": "stdout",
     "output_type": "stream",
     "text": [
      "(['ana'], [2])\n"
     ]
    }
   ],
   "source": [
    "# https://stackoverflow.com/questions/40556491/how-to-find-the-longest-common-substring-of-multiple-strings\n",
    "from functools import partial, reduce\n",
    "from itertools import chain\n",
    "from typing import Iterator\n",
    "\n",
    "from collections import Counter\n",
    "\n",
    "\n",
    "def ngram(seq: str, n: int) -> Iterator[str]:\n",
    "    return (seq[i: i+n] for i in range(0, len(seq)-n+1))\n",
    "\n",
    "\n",
    "def allngram(seq: str, minn=1, maxn=None) -> Iterator[str]:\n",
    "    lengths = range(minn, maxn) if maxn else range(minn, len(seq))\n",
    "    ngrams = map(partial(ngram, seq), lengths)\n",
    "    return set(chain.from_iterable(ngrams))\n",
    "\n",
    "\n",
    "def frequent_ngrams(strings, min_support=None, topn=5):\n",
    "    # 1.split traces into ngrams\n",
    "    seqs_ngrams = map(allngram, strings)\n",
    "\n",
    "    # 2.count ngram frequencies\n",
    "    counts = Counter(chain.from_iterable(seqs_ngrams))\n",
    "\n",
    "    # 3.filter frequent substrings\n",
    "    # set frequency threshold if not specified\n",
    "    if not min_support:\n",
    "        most_frequent_s = [s for s, count in counts.most_common(topn)]\n",
    "        # maximum frequency\n",
    "#         most_frequent1 = counts.most_common(1)[0]\n",
    "#         min_support = most_frequent1[1]\n",
    "    else:\n",
    "#         print(min_support)\n",
    "        most_frequent={string: count for string, count in counts.items() if count >= min_support}\n",
    "    #     print(most_frequent)\n",
    "        most_frequent_s = list(most_frequent.keys())\n",
    "\n",
    "    # 4.drop substrings\n",
    "    most_frequent_s.sort(key=len, reverse=True)\n",
    "#     print(most_frequent_s)\n",
    "    lfss = [most_frequent_s[0]]\n",
    "    for s in most_frequent_s[1:]:\n",
    "        overlap = False\n",
    "        for lfs in lfss:\n",
    "            if s in lfs:\n",
    "                overlap = True\n",
    "                break\n",
    "        if not overlap:\n",
    "            lfss.append(s)\n",
    "    # result: longest frequent substrings with counts\n",
    "    return lfss, [counts[s] for s in lfss]\n",
    "\n",
    "\n",
    "print(frequent_ngrams(test_strings))"
   ]
  },
  {
   "cell_type": "markdown",
   "metadata": {},
   "source": [
    "## Mine Conversation Log"
   ]
  },
  {
   "cell_type": "code",
   "execution_count": 73,
   "metadata": {},
   "outputs": [
    {
     "name": "stdout",
     "output_type": "stream",
     "text": [
      "DFAFEFCFEEFCGGEEFEFCGFEFCGFEGGE\n",
      "DFEFEFEFCFC\n",
      "DFFEGFEGEFCGFEGGGFAFEEEFFAFEEE\n",
      "DFFEFCFEFEEFCGGFEFCGFEFEFCGFEGFEGGGFE\n",
      "DFFEFCGFEEFCFCGFEGGGFA\n",
      "DFEFAFEFCFEFCGFEGFEGFEGGGFEFEFFEFCGFEGFEFCGFE\n",
      "DFFEFCFEFCFEEEFCFC\n",
      "\n",
      "\n",
      "15867 traces\n"
     ]
    }
   ],
   "source": [
    "# get conversation log\n",
    "import requests\n",
    "data_path = \"https://raw.githubusercontent.com/svakulenk0/conversation_mining/master/data/\"\n",
    "log_name = \"1_dstc1.stringenc.txt\"\n",
    "log_string = requests.get(data_path+log_name).text\n",
    "# print(len(log_string))\n",
    "# experiment on a log snippet\n",
    "log_snip = log_string[:200]\n",
    "print(log_snip)\n",
    "\n",
    "traces = log_string.split('\\n')\n",
    "print('\\n')\n",
    "print(\"%d traces\"%len(traces))"
   ]
  },
  {
   "cell_type": "code",
   "execution_count": 88,
   "metadata": {},
   "outputs": [
    {
     "name": "stdout",
     "output_type": "stream",
     "text": [
      "(['DF', 'FE'], [15831, 15468])\n",
      "(['FEFC', 'EFCG', 'FCGF', 'GFE', 'DFF', 'FFE', 'FA'], [11446, 10195, 10985, 10725, 12471, 13602, 10428])\n"
     ]
    }
   ],
   "source": [
    "# dictionary: https://github.com/svakulenk0/conversation_mining/blob/master/data/1_dstc1.stringenc.dict.txt\n",
    "print(frequent_ngrams(traces, topn=5))\n",
    "print(frequent_ngrams(traces, min_support=10000))  # TODO min support as a fraction of the number of traces\n",
    "# TODO plot frequency distribution"
   ]
  },
  {
   "cell_type": "code",
   "execution_count": null,
   "metadata": {},
   "outputs": [],
   "source": [
    "# TODO look up sample traces"
   ]
  }
 ],
 "metadata": {
  "kernelspec": {
   "display_name": "Python 3",
   "language": "python",
   "name": "python3"
  },
  "language_info": {
   "codemirror_mode": {
    "name": "ipython",
    "version": 3
   },
   "file_extension": ".py",
   "mimetype": "text/x-python",
   "name": "python",
   "nbconvert_exporter": "python",
   "pygments_lexer": "ipython3",
   "version": "3.7.0"
  }
 },
 "nbformat": 4,
 "nbformat_minor": 2
}
