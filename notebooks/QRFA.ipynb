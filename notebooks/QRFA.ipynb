{
 "cells": [
  {
   "cell_type": "markdown",
   "metadata": {},
   "source": [
    "# QRFA conformance checking\n",
    "Extract the model from the MSDialog conversation transcripts annotated with intents https://ciir.cs.umass.edu/downloads/msdialog/ and compare it with the QRFA model."
   ]
  },
  {
   "cell_type": "code",
   "execution_count": 2,
   "metadata": {},
   "outputs": [
    {
     "name": "stdout",
     "output_type": "stream",
     "text": [
      "2199 dialogues in msdialog_intent\n"
     ]
    }
   ],
   "source": [
    "# set up connection to the MongoDB: sudo service mongod start (27017 is the default port)\n",
    "from pymongo import MongoClient\n",
    "\n",
    "class Mongo_Connector():\n",
    "    '''\n",
    "    Wrapper class for some of the pymongo functions: http://api.mongodb.com/python/current/tutorial.html\n",
    "    '''\n",
    "\n",
    "    def __init__(self, db_name, col_name):\n",
    "        # spin up database\n",
    "        self.mongo_client = MongoClient()\n",
    "        self.col_name = col_name\n",
    "        self.db = self.mongo_client[db_name][self.col_name]\n",
    "\n",
    "    def count_all_docs(self):\n",
    "        count = self.db.count_documents({})\n",
    "        print (\"%d dialogues in %s\" % (count, self.col_name)) \n",
    "        \n",
    "db_name = 'cm'\n",
    "col_name = 'msdialog_intent'\n",
    "# connect to MongoDB\n",
    "mongo = Mongo_Connector(db_name, col_name)\n",
    "mongo.count_all_docs()\n",
    "\n",
    "# define mapping from 12 msdialog_intent labels to QRFA\n",
    "Q = ['OQ', 'RQ', 'CQ', 'FQ']\n",
    "R = ['IR']\n",
    "F = ['PF', 'NF']\n",
    "A = ['PA']\n",
    "# skipped FD GG JK O"
   ]
  },
  {
   "cell_type": "code",
   "execution_count": 3,
   "metadata": {},
   "outputs": [
    {
     "name": "stdout",
     "output_type": "stream",
     "text": [
      "2199 traces collected\n",
      "Sample trace: ['<QAF>', '<QAQAF*>', '<QAQAQ>']\n"
     ]
    }
   ],
   "source": [
    "# 1. get traces of functional labels from MongoDB\n",
    "cursor = mongo.db.find()\n",
    "# interate over conversations and collect traces\n",
    "traces = []\n",
    "for doc in cursor:\n",
    "    # record trace as the sequence of labels\n",
    "    trace = '<'\n",
    "    for turn in doc['utterances']:\n",
    "        # map labels to QRFA annotation schema\n",
    "        labels = turn['tags'].split() \n",
    "        qrfa = [l[-1] for l in labels if l[-1] in 'QRFA']\n",
    "        if qrfa:\n",
    "            # consider only the first matched label\n",
    "            label = qrfa[0]\n",
    "        else:\n",
    "            label = '*'\n",
    "        # skip duplicate state self-loops\n",
    "        if not trace or label != trace[-1]:\n",
    "            trace += label\n",
    "    if trace:\n",
    "        traces.append(trace+'>')\n",
    "print(\"%d traces collected\"%len(traces))\n",
    "print(\"Sample trace: %s\"%traces[15:18])"
   ]
  },
  {
   "cell_type": "code",
   "execution_count": 17,
   "metadata": {},
   "outputs": [
    {
     "name": "stdout",
     "output_type": "stream",
     "text": [
      "(['<QAQA', 'QAQA>', '<QAF', 'QAF>', 'QAQ>', '<QA*', 'QAFA', 'AF*>', 'QA*>', 'QAF*', '<QR', 'FA>', '*A', 'Q*', 'QF', 'RQ'], [322, 212, 494, 277, 225, 204, 130, 127, 125, 123, 287, 133, 264, 167, 148, 135])\n"
     ]
    }
   ],
   "source": [
    "# 2. extract sequences frequent across multiple traces\n",
    "# https://stackoverflow.com/questions/40556491/how-to-find-the-longest-common-substring-of-multiple-strings\n",
    "\n",
    "from functools import partial, reduce\n",
    "from itertools import chain\n",
    "from typing import Iterator\n",
    "\n",
    "from collections import Counter\n",
    "\n",
    "\n",
    "def ngram(seq: str, n: int) -> Iterator[str]:\n",
    "    return (seq[i: i+n] for i in range(0, len(seq)-n+1))\n",
    "\n",
    "\n",
    "def allngram(seq: str, minn=1, maxn=None) -> Iterator[str]:\n",
    "    lengths = range(minn, maxn) if maxn else range(minn, len(seq))\n",
    "    ngrams = map(partial(ngram, seq), lengths)\n",
    "    return set(chain.from_iterable(ngrams))\n",
    "\n",
    "\n",
    "def frequent_ngrams(strings, min_support=None, topn=5):\n",
    "    \n",
    "    # 1.split traces into ngrams\n",
    "    seqs_ngrams = map(allngram, strings)\n",
    "\n",
    "    # 2.count ngram frequencies\n",
    "    counts = Counter(chain.from_iterable(seqs_ngrams))\n",
    "    \n",
    "#     return counts.most_common(topn)\n",
    "    # 3.filter frequent substrings\n",
    "    # set frequency threshold if not specified\n",
    "    if not min_support:\n",
    "        most_frequent_s = [s for s, count in counts.most_common(topn)]\n",
    "        # maximum frequency\n",
    "#         most_frequent1 = counts.most_common(1)[0]\n",
    "#         min_support = most_frequent1[1]\n",
    "    else:\n",
    "#         print(min_support)\n",
    "        most_frequent={string: count for string, count in counts.items() if count >= min_support}\n",
    "    #     print(most_frequent)\n",
    "        most_frequent_s = list(most_frequent.keys())\n",
    "    \n",
    "    # 4.drop substrings\n",
    "    most_frequent_s.sort(key=len, reverse=True)\n",
    "    #     print(most_frequent_s)\n",
    "    lfss = [most_frequent_s[0]]\n",
    "    for s in most_frequent_s[1:]:\n",
    "        overlap = False\n",
    "        for lfs in lfss:\n",
    "            if s in lfs:\n",
    "                overlap = True\n",
    "                break\n",
    "        if not overlap:\n",
    "            lfss.append(s)\n",
    "    # result: longest frequent substrings with counts\n",
    "    return lfss, [counts[s] for s in lfss]\n",
    "\n",
    "\n",
    "print(frequent_ngrams(traces, topn=50))\n",
    "# print(frequent_ngrams(traces, min_support=200))\n",
    "# @Anton check correctness + complexity analysis? is it a map-reduce scenario?\n",
    "\n",
    "# dump patterns\n",
    "import csv\n",
    "a, b = frequent_ngrams(traces, topn=500)\n",
    "with open(\"sample_frequent_patterns.csv\", 'w') as csvfile:\n",
    "    results_writer = csv.writer(csvfile, delimiter=',', quotechar='|', quoting=csv.QUOTE_MINIMAL)\n",
    "    results_writer.writerow(a)\n",
    "    results_writer.writerow(b)"
   ]
  },
  {
   "cell_type": "code",
   "execution_count": 57,
   "metadata": {},
   "outputs": [
    {
     "data": {
      "text/plain": [
       "[('!<*A>!<QR*>!<QA>!<Q*AQA>', 15216),\n",
       " ('!<*A>!<QRQR>!<QAF>!<QRAQ*A>!<QAQ*A>!<QAF>!<QAF>!<QAFAFAF>!<QRAQA>!<QAQ>!<QA>!<QAF>!<FAF>!<QAF>!<QAF>!<Q>!<QA>!<QA*F>!<F*QAQAQAF>!<QAQA>!<QAQAFAQ>!<QA>!<QAQAQAQA>!<QAF>!<QAFQ>!<QA>!<QAQ>!<QAQ>!<QA>!<QAQARF>!<QA>!<QAFAQA>!<QAF*>!<QA*A>!<QA>!<QR*AF*>!<QAFQ>!<QA>!<QA>!<QA*>!<QA>!<Q*>!<QRF*>!<QAQRF*>!<QAQ>!<QAF>!<QAQA>!<*A>!<QR*>!<QA>!<Q*AQA>',\n",
       "  14901)]"
      ]
     },
     "execution_count": 57,
     "metadata": {},
     "output_type": "execute_result"
    }
   ],
   "source": [
    "# @Anton alternative algorithm: suffix array -> LCP array\n",
    "def suffix_array_oneliner(s):\n",
    "    return [(suffix, rank) for suffix, rank in sorted((s[i:], i) for i in range(len(s)))]\n",
    "\n",
    "suffix_array_oneliner('!'.join(traces))[:2]\n",
    "# TODO longest common prefix (LCP) array"
   ]
  },
  {
   "cell_type": "code",
   "execution_count": null,
   "metadata": {},
   "outputs": [],
   "source": [
    "# 3. aggregate frequent sequences\n",
    "# https://en.wikipedia.org/wiki/Knapsack_problem LP or greedy optimization\n",
    "# Constraints: (1) size - at most n patterns; (2) length - at most k symbols per pattern; (2) completeness - each component must begin with a start symbol and end wi\n",
    "# (2) at most k loops per component\n"
   ]
  },
  {
   "cell_type": "code",
   "execution_count": null,
   "metadata": {},
   "outputs": [],
   "source": [
    "# 4. compare the models"
   ]
  }
 ],
 "metadata": {
  "kernelspec": {
   "display_name": "tf36",
   "language": "python",
   "name": "tf36"
  }
 },
 "nbformat": 4,
 "nbformat_minor": 2
}
