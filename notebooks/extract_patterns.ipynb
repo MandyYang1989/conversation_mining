{
 "cells": [
  {
   "cell_type": "markdown",
   "metadata": {},
   "source": [
    "Count frequent subsequences that contain only unique symbols"
   ]
  },
  {
   "cell_type": "code",
   "execution_count": 13,
   "metadata": {},
   "outputs": [
    {
     "name": "stdout",
     "output_type": "stream",
     "text": [
      "37 traces\n",
      "<zcTabTabgmcTc3Tacda>\n"
     ]
    }
   ],
   "source": [
    "# 1. load traces\n",
    "import requests\n",
    "# data_path = \"https://raw.githubusercontent.com/svakulenk0/conversation_mining/master/data/\"\n",
    "# log_name = \"1_dstc1.stringenc.txt\"\n",
    "data_path = \"https://raw.githubusercontent.com/svakulenk0/conversation_mining/master/data/scs/\"\n",
    "log_name = \"original_scs.stringenc.txt\"\n",
    "log_string = requests.get(data_path+log_name).text\n",
    "traces = [\"<%s>\" % t for t in log_string.split('\\n')]\n",
    "print(\"%d traces\" % len(traces))\n",
    "print(traces[0])"
   ]
  },
  {
   "cell_type": "code",
   "execution_count": 14,
   "metadata": {},
   "outputs": [
    {
     "name": "stdout",
     "output_type": "stream",
     "text": [
      "(['>', 'z', '<z', '<', '7', 'd', 'c', 'j', 'a', 'f', 'm', 'N', 'b', 'G', '3', 'ab', '4', 'T', 'GN', '7f', '7c', 'p', 'j7', 'fa', '5', 'cT', 'G7', 'jp', 'P', 'C', 'zj', '77', '<zj', 'S', '7d', 'da', 'aba', 'af', 'zG', '\"', '<zG', 'G7c', 'ba', 'k', 'Nf', 'f7', '6', 'd3', 'mG', '7m', 'fab', 'K', 'H', 'zc', '<zc', 'mc', 'mj', 'l', 'a7', 'D', 'fm', 'zGN', 'NG', '<zGN', 'E', '1', 'j5', 'zjp', '<zjp', '7a', '7G', 'b7', 'md', 'c7', 'f7f', 'GNc', '7fa', 'D$', '$', 'Tf', 'Nj', 'Nc', 'fj', 'Nd', '17', 'dab', 'bm', 'b>', 'ab>', 'bab', '7ab', '<zS', 'zS', 'jK', 'GNf', 'fC', 'ab7', 'mf', 'dm', 'f3'], [37, 37, 37, 37, 28, 26, 25, 24, 23, 22, 21, 21, 20, 20, 18, 17, 15, 13, 13, 12, 11, 11, 11, 11, 11, 10, 10, 10, 10, 10, 10, 10, 9, 9, 9, 8, 8, 8, 8, 8, 8, 8, 8, 8, 8, 8, 8, 8, 7, 7, 7, 7, 7, 6, 6, 6, 6, 6, 6, 6, 6, 6, 6, 6, 6, 6, 6, 6, 6, 6, 6, 6, 6, 6, 6, 5, 5, 5, 5, 5, 5, 5, 5, 5, 5, 5, 5, 5, 5, 5, 5, 5, 5, 5, 5, 5, 5, 5, 5, 5])\n"
     ]
    }
   ],
   "source": [
    "# 2. extract sequences frequent across multiple traces\n",
    "# https://stackoverflow.com/questions/40556491/how-to-find-the-longest-common-substring-of-multiple-strings\n",
    "\n",
    "from functools import partial, reduce\n",
    "from itertools import chain\n",
    "from typing import Iterator\n",
    "\n",
    "from collections import Counter\n",
    "\n",
    "\n",
    "def ngram(seq: str, n: int) -> Iterator[str]:\n",
    "    return (seq[i: i+n] for i in range(0, len(seq)-n+1))\n",
    "\n",
    "\n",
    "def allngram(seq: str, minn=1, maxn=None) -> Iterator[str]:\n",
    "    lengths = range(minn, maxn) if maxn else range(minn, len(seq))\n",
    "    ngrams = map(partial(ngram, seq), lengths)\n",
    "    return set(chain.from_iterable(ngrams))\n",
    "\n",
    "\n",
    "def frequent_ngrams(strings, min_support=None, topn=5):\n",
    "    \n",
    "    # 1.split traces into ngrams\n",
    "    seqs_ngrams = map(allngram, strings)\n",
    "    # 2.count ngram frequencies\n",
    "    counts = Counter(chain.from_iterable(seqs_ngrams))\n",
    "    \n",
    "#     return counts.most_common(topn)\n",
    "    # 3.filter frequent substrings\n",
    "    # set frequency threshold if not specified\n",
    "    if not min_support:\n",
    "        most_frequent_s = [s for s, count in counts.most_common(topn)]\n",
    "        # maximum frequency\n",
    "#         most_frequent1 = counts.most_common(1)[0]\n",
    "#         min_support = most_frequent1[1]\n",
    "    else:\n",
    "#         print(min_support)\n",
    "        most_frequent={string: count for string, count in counts.items() if count >= min_support}\n",
    "    #     print(most_frequent)\n",
    "        most_frequent_s = list(most_frequent.keys())\n",
    "    \n",
    "    return most_frequent_s, [counts[s] for s in most_frequent_s]\n",
    "    \n",
    "    # 4.drop substrings\n",
    "    #     most_frequent_s.sort(key=len, reverse=True)\n",
    "    #     #     print(most_frequent_s)\n",
    "    #     lfss = []\n",
    "    #     for s in most_frequent_s:\n",
    "    #         overlap = False\n",
    "    #         for lfs in lfss:\n",
    "    #             if s in lfs:\n",
    "    #                 overlap = True\n",
    "    #                 counts[lfs] += counts[s]\n",
    "    #                 break\n",
    "    #         if not overlap:\n",
    "    #             lfss.append(s)\n",
    "    #     # result: longest frequent substrings with counts\n",
    "    #     return lfss, [counts[s] for s in lfss]\n",
    "\n",
    "patterns, counts = frequent_ngrams(traces, topn=100)\n",
    "print((patterns, counts))\n",
    "# print(frequent_ngrams(traces, min_support=200))"
   ]
  },
  {
   "cell_type": "code",
   "execution_count": 15,
   "metadata": {},
   "outputs": [
    {
     "name": "stdout",
     "output_type": "stream",
     "text": [
      "{'ab': 1, 'f7': 2, 'ba': 3, '7G': 4, '7f': 5, 'NG': 6, 'GN': 7, 'aj': 8, 'cT': 9, '7mj': 10, '7cT1': 11}\n",
      "7,>,z,<z,<,d,c,j,a,f,3,m,N,b,G,ab,4,T,GN,7f,7d,1,7c,p,j7,fa,5,f7,3,cT,G7,jp,P,C,zj,7m,<zj,S,da,af,zG,\",<zG,G7c,ba,k,Nf,6,d3,mG,fab,K,H,zc,<zc,mc,mj,l,a7,D,fm,zGN,NG,<zGN,E,1,j5,zjp,<zjp,7a,7G,b7,md,c7,2,5,GNc,7fa,D$,$,Tf,Nj,Nc,fj,Nd,17,dab,bm,b>,ab>,7ab,<zS,zS,jK,GNf,fC,ab7,mf,dm,f3,76,7>,ad,g,c3,mj7,f1,5c,T17,T1,abm,Td,cC,),S>,Nfa,e,74,fab7,G5,o,zj5,d7,cG,7Z,Z,4m,d>,Tc,3T,Ta,mcT,c3T,Gl,s,mGN,7cT,<zGNc,b3,zGNc,3m,cTf,7P,7fab,jN,c>,T17f,cTd,7c>,17f,c),pc,bC,V,4,abC,mG5,K7,b7f,N7,dj,GNfa,fjK,f>,cj,7N,-,6\",P-,y,bj,:,*,fod,od,Sj,\"7,fo,eN,z7,<z7,z76,<z76,cw,w,6,fk,5H,<zj5,k7,dG,7d3,7,3d,HN,2,3>,4N,aj,ja,8,m7,7cm,cm,gm,ac,cTa,cd,9,zcT,<zcT,mG7c,T$7,mGNj,$7,baf,jpG,l7,X,Tfa,10,7mj,Gm,T$,1f,pG,$3,cT$,s4,G7cT,GNj,Tfab,37,%,mG7,D$3,t,cT$7,tN,NG7,11fa,\n",
      "38,37,37,37,37,26,25,24,23,22,22,21,21,20,20,17,15,13,13,12,12,12,11,11,11,11,11,11,11,10,10,10,10,10,10,10,9,9,8,8,8,8,8,8,8,8,8,8,8,7,7,7,7,6,6,6,6,6,6,6,6,6,6,6,6,6,6,6,6,6,6,6,6,6,6,6,5,5,5,5,5,5,5,5,5,5,5,5,5,5,5,5,5,5,5,5,5,5,5,5,5,5,5,4,4,4,4,4,4,4,4,4,4,4,4,4,4,4,4,4,4,4,4,4,4,4,4,4,3,3,3,3,3,3,3,3,3,3,3,3,3,3,3,3,3,3,3,3,3,3,3,3,3,3,3,3,3,3,3,3,3,3,3,3,3,3,3,3,3,3,3,3,3,3,3,3,3,3,3,3,3,3,3,3,3,3,3,3,3,3,3,3,3,3,3,3,3,3,3,3,3,3,3,3,2,2,2,2,2,2,2,2,2,2,2,2,2,2,2,2,2,2,2,2,2,2,2,2,2,2,2,2,2,2,2,2,2,2,2,2,2,\n"
     ]
    }
   ],
   "source": [
    "# group repeating chars into loops with () symbols\n",
    "from collections import defaultdict\n",
    "\n",
    "def frequent_loops(traces, topn=500):\n",
    "    '''\n",
    "    collect frequent patterns with loops\n",
    "    '''\n",
    "    # get frequent ngram patterns\n",
    "    patterns, counts = frequent_ngrams(traces, topn=topn)\n",
    "    \n",
    "    loop_patterns = Counter()\n",
    "    loop_patterns_num = {}\n",
    "    loops = defaultdict(int)\n",
    "    loop_ids = {}\n",
    "    n_loops = 0\n",
    "    for i, pattern in enumerate(patterns):\n",
    "        loop_pattern, loop_pattern_num = \"\", \"\"\n",
    "        for c in pattern:\n",
    "            if c not in loop_pattern:\n",
    "                loop_pattern += c\n",
    "                loop_pattern_num += c\n",
    "            else:\n",
    "                loop_start_idx = loop_pattern.index(c)\n",
    "                loop = ''.join([c for c in loop_pattern[loop_start_idx:] if c not in '()'])\n",
    "                if len(loop) > 1:\n",
    "                    loop_set = loop\n",
    "    #                 loop_set = \"\".join(set(loop))\n",
    "                    if loop_set not in loops:\n",
    "                        n_loops += 1\n",
    "                        loops[loop_set] += counts[i]\n",
    "                        loop_ids[loop_set] = n_loops\n",
    "                    loop_pattern = ''.join([c for c in loop_pattern[:loop_start_idx] if c not in '()']) + \"(%s)\" % loop\n",
    "                    loop_pattern_num = ''.join([c for c in loop_pattern[:loop_start_idx] if c not in '()']) + str(loop_ids[loop_set])\n",
    "    #     if not numeric and loop_pattern != pattern:\n",
    "    #         print(pattern)\n",
    "    #         print (loop_pattern)\n",
    "    #         print('\\n')\n",
    "    #     if loop_pattern_num:\n",
    "        loop_patterns_num[loop_pattern] = loop_pattern_num\n",
    "        loop_patterns[loop_pattern] += counts[i]\n",
    "#     print((list(loop_patterns.keys()), list(loop_patterns.values())))\n",
    "#     print(loops)\n",
    "\n",
    "    # show loop encoding\n",
    "    print(loop_ids)\n",
    "    patterns_w_loop_ids = [loop_patterns_num[p] if p in loop_patterns_num else p for p, c in loop_patterns.most_common()]\n",
    "    counts = [c for p, c in loop_patterns.most_common()]\n",
    "    return patterns_w_loop_ids, counts\n",
    "\n",
    "\n",
    "a, b = frequent_loops(traces, topn=250)\n",
    "\n",
    "\n",
    "# show extracted patterns\n",
    "ptns = ''\n",
    "cnts = ''\n",
    "for i in a:\n",
    "    ptns += i + ','\n",
    "for i in b:\n",
    "    cnts += str(i) + ','\n",
    "    \n",
    "print (ptns)\n",
    "print (cnts)  "
   ]
  },
  {
   "cell_type": "code",
   "execution_count": 9,
   "metadata": {},
   "outputs": [
    {
     "name": "stdout",
     "output_type": "stream",
     "text": [
      "{'BA': 1, 'AB': 2}\n"
     ]
    }
   ],
   "source": [
    "# dump patterns\n",
    "import csv\n",
    "# a, b = frequent_ngrams(traces, topn=500)\n",
    "a, b = frequent_loops(traces, topn=150)\n",
    "with open(\"sample_frequent_loops.csv\", 'w') as csvfile:\n",
    "    results_writer = csv.writer(csvfile, delimiter=',', quotechar='|', quoting=csv.QUOTE_MINIMAL)\n",
    "    results_writer.writerow(a)\n",
    "    results_writer.writerow(b)"
   ]
  },
  {
   "cell_type": "code",
   "execution_count": null,
   "metadata": {},
   "outputs": [],
   "source": []
  }
 ],
 "metadata": {
  "kernelspec": {
   "display_name": "Python 3",
   "language": "python",
   "name": "python3"
  },
  "language_info": {
   "codemirror_mode": {
    "name": "ipython",
    "version": 3
   },
   "file_extension": ".py",
   "mimetype": "text/x-python",
   "name": "python",
   "nbconvert_exporter": "python",
   "pygments_lexer": "ipython3",
   "version": "3.7.4"
  }
 },
 "nbformat": 4,
 "nbformat_minor": 2
}
