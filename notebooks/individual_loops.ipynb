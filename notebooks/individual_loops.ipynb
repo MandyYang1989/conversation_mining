{
 "cells": [
  {
   "cell_type": "code",
   "execution_count": 22,
   "metadata": {
    "collapsed": false
   },
   "outputs": [
    {
     "name": "stdout",
     "output_type": "stream",
     "text": [
      "26\n",
      "['QRQRQRQRQAF', 'QRFAQRQRQAF', 'QRQRQAF', 'AQRQRQRQAF', 'RQRQRQAQRQRF', 'RQRQAFRFRQRQAQRQRFRFRQAFAFA', 'QRQAQRQRFRF', 'QRQRQAQAFRFAQRFRF', 'RQAQRQAFRQAQRQA', 'QRQRQRQRQRFRQRFRFRFRQRQRQRF', 'RFRFRQRFRQAFRFRQRFRFRQRQRQRQRQRQRQA', 'QAFRF', 'QRQRQRQRQRFRFRFRFRQRQRFAQRFRF', 'QRQAQAFAFAFRFAFA', 'RQRFRQRFRFA', 'QRQRQAFRF', 'AQAAF', 'QRFRFRFRQRFRFRFRQRFRQAFRQRQAFA', 'QRQAQRFAFA', 'QRQRQAQAF', 'RQAQAF', 'RQAQRQAFRFRFRFAF', 'QRQRQRFRQAF', 'RQRQAFRQAQAFAQRFRQRFAFAFA', 'QAQAQAFRFAF', 'RFAFA']\n"
     ]
    }
   ],
   "source": [
    "# setup ODE\n",
    "data_path = \"../data/\"\n",
    "traces_path = \"5_ode.csv\"\n",
    "\n",
    "import pandas as pd\n",
    "df = pd.read_csv(data_path+traces_path)\n",
    "# print(df.head(5))\n",
    "\n",
    "# collect dialogues\n",
    "case = 0\n",
    "dialogues = []\n",
    "for index, utterance in df.iterrows():\n",
    "    if utterance['case ID'] != case:\n",
    "        dialogues.append('')\n",
    "        case = utterance['case ID']\n",
    "    elif utterance['New'] != 'Hello':\n",
    "        dialogues[-1] += utterance['New'][0]\n",
    "print(len(dialogues))\n",
    "print(dialogues)"
   ]
  },
  {
   "cell_type": "code",
   "execution_count": 26,
   "metadata": {
    "collapsed": false
   },
   "outputs": [
    {
     "name": "stdout",
     "output_type": "stream",
     "text": [
      "['QRQRQRQRQAF', 'QRFAQRQRQAF', 'QRQRQAF', 'AQRQRQRQAF', 'RQRQRQAQRQRF', 'RQRQAFRFRQRQAQRQRFRFRQAFAFA', 'QRQAQRQRFRF', 'QRQRQAQAFRFAQRFRF', 'RQAQRQAFRQAQRQA', 'QRQRQRQRQRFRQRFRFRFRQRQRQRF', 'RFRFRQRFRQAFRFRQRFRFRQRQRQRQRQRQRQA', 'QAFRF', 'QRQRQRQRQRFRFRFRFRQRQRFAQRFRF', 'QRQAQAFAFAFRFAFA', 'RQRFRQRFRFA', 'QRQRQAFRF', 'AQAAF', 'QRFRFRFRQRFRFRFRQRFRQAFRQRQAFA', 'QRQAQRFAFA', 'QRQRQAQAF', 'RQAQAF', 'RQAQRQAFRFRFRFAF', 'QRQRQRFRQAF', 'RQRQAFRQAQAFAQRFRQRFAFAFA', 'QAQAQAFRFAF', 'RFAFA']\n",
      "['QRQ', 'RQR', 'QAQ', 'FRF', 'RFR', 'AFA', 'FAF', 'AQA']\n",
      "{'QR': 'a', 'AQ': 'b', 'FR': 'c', 'AF': 'd'}\n",
      "['aAF', 'QRFAaRQAF', 'aRQAF', 'AaQAF', 'aAaRF', 'aQAcabacRQdFA', 'aAacF', 'aRbAcAQcF', 'RbRQAFRbRQA', 'acQcaRF', 'cFaFRQAcacaRQA', 'QAc', 'acaRFAQcF', 'abdAcd', 'aFacA', 'aRQAc', 'bAF', 'QcacQcQAFaQd', 'aAQRdA', 'aRbAF', 'RbAF', 'RbRQAcd', 'aFRQAF', 'aQAFRbdQcQRd', 'bcAF', 'RdA']\n"
     ]
    }
   ],
   "source": [
    "# find loops\n",
    "\n",
    "import string\n",
    "chars = string.ascii_lowercase\n",
    "\n",
    "def mine_simple_loops(dialogues, loops_alphabet={}): \n",
    "    # mine loops (linear), e.g. QRQ, i.e. s[0] == s[2] -> s[0:1] is a loop\n",
    "    loops = []\n",
    "    s = ''\n",
    "    for d in 'o'.join(dialogues):\n",
    "        if d == 'o':\n",
    "            # reset pattern\n",
    "            s = ''\n",
    "            continue\n",
    "        s += d\n",
    "        if len(s) == 3:\n",
    "            # check if loop\n",
    "            if s[0] == s[2]:\n",
    "                loop = s\n",
    "                if loop not in loops:\n",
    "                    loops.append(loop)\n",
    "            # slide over\n",
    "            s = s[1:]\n",
    "    if not loops:\n",
    "        return None, loops_alphabet\n",
    "    print(loops)\n",
    "\n",
    "    # group loops (linear)\n",
    "    for loop in loops:\n",
    "        # normalise loop label\n",
    "        loop_label = ''.join(list(set(loop)))\n",
    "        if loop_label not in loops_alphabet:\n",
    "            loops_alphabet[loop_label] = chars[len(loops_alphabet)]\n",
    "    print(loops_alphabet)\n",
    "    \n",
    "    # transform log by replacing all loops with loop ids\n",
    "    trace = ''\n",
    "    s = ''\n",
    "    for d in 'o'.join(dialogues):\n",
    "        s += d\n",
    "        if s in loops:\n",
    "            loop_label = ''.join(list(set(s)))\n",
    "            loop_id = str(loops_alphabet[loop_label])\n",
    "            # do not repeat loop symbols\n",
    "            if trace == '' or trace[-1] != loop_id:\n",
    "                trace += loop_id\n",
    "            s = ''\n",
    "        elif len(s) == 3:\n",
    "            trace += s[0]\n",
    "            # slide over\n",
    "            s = s[1:]\n",
    "    trace += s\n",
    "    return trace.split('o'), loops_alphabet\n",
    "\n",
    "\n",
    "def build_hpm(dialogues):\n",
    "    print(dialogues)\n",
    "    dialogues, loops_alphabet = mine_simple_loops(dialogues)\n",
    "    return dialogues, loops_alphabet\n",
    "\n",
    "\n",
    "dialogues_2, loops_alphabet = build_hpm(dialogues)\n",
    "print(dialogues_2)\n",
    "# print(loops_alphabet)"
   ]
  },
  {
   "cell_type": "code",
   "execution_count": 85,
   "metadata": {
    "collapsed": false
   },
   "outputs": [
    {
     "name": "stdout",
     "output_type": "stream",
     "text": [
      "oQRF\n",
      "RAQF\n",
      "AFRQ\n",
      "RAF\n"
     ]
    }
   ],
   "source": [
    "# find how the loops are connected: separate model for each loop\n",
    "from collections import defaultdict, Counter\n",
    "\n",
    "trace = ''.join(['o' + d for d in dialogues_2])\n",
    "\n",
    "# most frequent patterns\n",
    "enter_loop = defaultdict(Counter)\n",
    "exit_loop = defaultdict(Counter)\n",
    "\n",
    "for i in range(len(trace)):\n",
    "    if trace[i] in loops_alphabet.values():\n",
    "        # how did we enter this loop\n",
    "        if trace[i-1] == 'o' or trace[i-1] not in chars:\n",
    "            enter_loop[trace[i]][trace[i-1]] += 1\n",
    "        # how did we exit this loop\n",
    "        if i+2 < len(trace) and trace[i+2] not in chars:\n",
    "            exit_loop[trace[i]][trace[i+2]] += 1\n",
    "\n",
    "for loop, loop_id in loops_alphabet.items():\n",
    "#     print(loop)\n",
    "    component = ''\n",
    "    most_common_start = enter_loop[loop_id].most_common(1)[0][0]\n",
    "#     if most_common_start != 'o':\n",
    "    component += most_common_start\n",
    "    component += loop\n",
    "#     print(exit_loop[loop_id].most_common())\n",
    "    for l in exit_loop[loop_id].most_common():\n",
    "        most_common_end = l[0]\n",
    "        if most_common_end in loop or most_common_end in chars:\n",
    "            continue\n",
    "        component += most_common_end\n",
    "        break\n",
    "    print(component)\n"
   ]
  },
  {
   "cell_type": "code",
   "execution_count": 98,
   "metadata": {
    "collapsed": false
   },
   "outputs": [
    {
     "ename": "SyntaxError",
     "evalue": "unexpected EOF while parsing (<ipython-input-98-be056b654d82>, line 29)",
     "output_type": "error",
     "traceback": [
      "\u001b[0;36m  File \u001b[0;32m\"<ipython-input-98-be056b654d82>\"\u001b[0;36m, line \u001b[0;32m29\u001b[0m\n\u001b[0;31m    \u001b[0m\n\u001b[0m    ^\u001b[0m\n\u001b[0;31mSyntaxError\u001b[0m\u001b[0;31m:\u001b[0m unexpected EOF while parsing\n"
     ]
    }
   ],
   "source": [
    "# find how the loops are connected: separate model for each loop\n",
    "from collections import defaultdict, Counter\n",
    "print(dialogues_2)\n",
    "trace = 'o'.join(dialogues_2)\n",
    "\n",
    "tail = ''\n",
    "starts = defaultdict(list)\n",
    "ends = defaultdict(list)\n",
    "\n",
    "for d in trace:\n",
    "    if d in loops_alphabet.values():\n",
    "        loop = d\n",
    "        if tail <= 2:\n",
    "            starts[loop].append(tail)\n",
    "        tail = ''\n",
    "    elif d == 'o' and loop:\n",
    "        if tail <= 2:\n",
    "            ends[loop].append(tail)\n",
    "        tail = ''\n",
    "        loop = None\n",
    "    else:\n",
    "     tail += d\n",
    "\n",
    "# print(starts)\n",
    "# print(ends)\n",
    "\n",
    "for loop, loop_id in loops_alphabet.items():\n",
    "    \n",
    "\n"
   ]
  },
  {
   "cell_type": "code",
   "execution_count": null,
   "metadata": {
    "collapsed": true
   },
   "outputs": [],
   "source": []
  }
 ],
 "metadata": {
  "anaconda-cloud": {},
  "kernelspec": {
   "display_name": "Python [conda env:allennlp]",
   "language": "python",
   "name": "conda-env-allennlp-py"
  },
  "language_info": {
   "codemirror_mode": {
    "name": "ipython",
    "version": 3
   },
   "file_extension": ".py",
   "mimetype": "text/x-python",
   "name": "python",
   "nbconvert_exporter": "python",
   "pygments_lexer": "ipython3",
   "version": "3.6.2"
  }
 },
 "nbformat": 4,
 "nbformat_minor": 1
}
