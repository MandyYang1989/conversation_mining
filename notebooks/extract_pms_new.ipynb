{
 "cells": [
  {
   "cell_type": "code",
   "execution_count": 5,
   "metadata": {
    "collapsed": false
   },
   "outputs": [
    {
     "name": "stdout",
     "output_type": "stream",
     "text": [
      "   case ID resource     activity name   resource+activity     Sitter      New  \\\n",
      "0        1        A        greeting()        A|greeting()   A|hello*    Hello   \n",
      "1        1        U    question(data)    U|question(data)  U|request    Query   \n",
      "2        1        A    list(keywords)    A|list(keywords)    A|offer  Request   \n",
      "3        1        U     set(keywords)     U|set(keywords)  U|request    Query   \n",
      "4        1        A  prompt(keywords)  A|prompt(keywords)    A|offer  Request   \n",
      "\n",
      "     New.1  \n",
      "0    Hello  \n",
      "1    Query  \n",
      "2  Request  \n",
      "3    Query  \n",
      "4  Request  \n"
     ]
    }
   ],
   "source": [
    "# use manually annotated labels\n",
    "\n",
    "data_path = \"../data/\"\n",
    "traces_path = \"5_ode.csv\"\n",
    "\n",
    "import pandas as pd\n",
    "df = pd.read_csv(data_path+traces_path)\n",
    "print(df.head(5))\n",
    "# print(df['New'])"
   ]
  },
  {
   "cell_type": "code",
   "execution_count": 1,
   "metadata": {
    "collapsed": false
   },
   "outputs": [
    {
     "name": "stdout",
     "output_type": "stream",
     "text": [
      "26\n",
      "['<QRQRQRQRQAF>', '<RQRFAQRQRQAF>', '<QRQRQAF>', '<QAQRQRQRQAF>', '<QRQRQRQAQRQRF>', '<QRQRQAFRFRQRQAQRQRFRFRQAFAFA>', '<QRQAQRQRFRF>', '<RQRQRQAQAFRFAQRFRF>', '<RRQAQRQAFRQAQRQA>', '<QQRQRQRQRQRFRQRFRFRFRQRQRQRF>', '<QRFRFRQRFRQAFRFRQRFRFRQRQRQRQRQRQRQA>', '<QAFRF>', '<QRQRQRQRQRFRFRFRFRQRQRFAQRFRF>', '<RQRQAQAFAFAFRFAFA>', '<QRQRFRQRFRFA>', '<QRQRQAFRF>', '<QAQAAF>', '<QRFRFRFRQRFRFRFRQRFRQAFRQRQAFA>', '<QRQAQRFAFA>', '<RQRQRQAQAF>', '<RQAQAF>', '<QRQAQRQAFRFRFRFAF>', '<RQRQRQRFRQAF>', '<QRQRQAFRQAQAFAQRFRQRFAFAFA>', '<QAQAQAFRFAF>', '<QRFAFA>']\n"
     ]
    }
   ],
   "source": [
    "# collect dialogues\n",
    "case = 0\n",
    "dialogues = []\n",
    "for index, utterance in df.iterrows():\n",
    "    if utterance['case ID'] != case:\n",
    "        # use start and end symbols\n",
    "        if dialogues:\n",
    "            dialogues[-1] += '>'\n",
    "        dialogues.append('<')\n",
    "        case = utterance['case ID']\n",
    "    if utterance['New'] != 'Hello':\n",
    "        dialogues[-1] += utterance['New'][0]\n",
    "dialogues[-1] += '>'\n",
    "print(len(dialogues))\n",
    "print(dialogues)"
   ]
  },
  {
   "cell_type": "code",
   "execution_count": 3,
   "metadata": {
    "collapsed": false
   },
   "outputs": [
    {
     "name": "stdout",
     "output_type": "stream",
     "text": [
      "1\n",
      "2\n",
      "1\n",
      "2\n",
      "1\n",
      "5\n",
      "1\n",
      "3\n",
      "4\n",
      "0\n",
      "2\n",
      "1\n",
      "1\n",
      "6\n",
      "1\n",
      "1\n",
      "3\n",
      "3\n",
      "3\n",
      "2\n",
      "2\n",
      "3\n",
      "1\n",
      "7\n",
      "4\n",
      "2\n"
     ]
    }
   ],
   "source": [
    "# calculate number of answers per dialogue -- information presentation\n",
    "for d in dialogues:\n",
    "    print(Counter(d)['A'])"
   ]
  },
  {
   "cell_type": "code",
   "execution_count": 2,
   "metadata": {
    "collapsed": false
   },
   "outputs": [
    {
     "name": "stdout",
     "output_type": "stream",
     "text": [
      "[19, 80, 81, 40, 32, 17, 7, 50, 21, 20, 44, 9]\n",
      "{'<Q': 0.23, 'QR': 0.99, 'RQ': 1.0, 'QA': 0.49, 'AF': 0.4, 'F>': 0.21, '<R': 0.09, 'RF': 0.62, 'FA': 0.26, 'AQ': 0.25, 'FR': 0.54, 'A>': 0.11}\n"
     ]
    }
   ],
   "source": [
    "# 1) count all bigrams\n",
    "from collections import Counter\n",
    "\n",
    "def find_ngrams(dialogues, n=2):\n",
    "    # mine ngrams with a sliding window n (linear), e.g. QR, RQ\n",
    "    ngrams = Counter()\n",
    "    s = ''\n",
    "    for d in 'o'.join(dialogues):\n",
    "        if d == 'o':\n",
    "            # reset pattern\n",
    "            s = ''\n",
    "            continue\n",
    "        # skip duplicate symbols (loops)\n",
    "        if not s or s[-1] != d:\n",
    "            s += d\n",
    "        if len(s) == n:\n",
    "            ngrams[s] += 1\n",
    "            # slide over\n",
    "            s = s[1:]\n",
    "    return ngrams\n",
    "\n",
    "ngrams = find_ngrams(dialogues)\n",
    "# absolute counts for bigrams\n",
    "print(list(ngrams.values()))\n",
    "_max = max(list(ngrams.values()))\n",
    "ngrams = {k: round(v / _max, 2) for k, v in ngrams.items()}\n",
    "print(ngrams)\n",
    "\n",
    "# absolute counts for unigrams\n",
    "# ngrams = find_ngrams(dialogues, n=1)\n",
    "# print(ngrams.most_common())\n",
    "# # normalise counts to be relative to the total number of conver\n",
    "# das = {k: v / total for k, v in ngrams.items() if k in ['Q', 'R', 'F', 'A']}\n",
    "# total = sum(das.values(), 0.0)\n",
    "# ngrams = {k: round(v / total, 2) for k, v in das.items()}\n",
    "# print(ngrams)"
   ]
  },
  {
   "cell_type": "code",
   "execution_count": 32,
   "metadata": {
    "collapsed": false
   },
   "outputs": [
    {
     "name": "stdout",
     "output_type": "stream",
     "text": [
      "{'<Q': 0.73, 'QR': 0.85, 'RQ': 0.85, 'QA': 0.85, 'AF': 0.81, 'F>': 0.65, '<R': 0.27, 'RF': 0.73, 'FA': 0.46, 'AQ': 0.62, 'FR': 0.62, 'A>': 0.35}\n"
     ]
    }
   ],
   "source": [
    "# count only one occurance of the same pattern per conversation\n",
    "# 1) count all bigrams\n",
    "from collections import Counter\n",
    "\n",
    "def find_ngrams(dialogues, n=2):\n",
    "    # mine ngrams with a sliding window n (linear), e.g. QR, RQ\n",
    "    ngrams = Counter()\n",
    "    s = ''\n",
    "    c_patterns = []\n",
    "    for d in 'o'.join(dialogues):\n",
    "        # keep track of the patterns in the same conversation\n",
    "        if d == 'o':\n",
    "            # reset pattern\n",
    "            s = ''\n",
    "            c_patterns = []\n",
    "            continue\n",
    "        # skip duplicate symbols (loops)\n",
    "        if not s or s[-1] != d:\n",
    "            s += d\n",
    "        if len(s) == n:\n",
    "            # count only once per conversation\n",
    "            if s not in c_patterns:\n",
    "                ngrams[s] += 1\n",
    "                c_patterns.append(s)\n",
    "            # slide over\n",
    "            s = s[1:]\n",
    "    return ngrams\n",
    "\n",
    "ngrams = find_ngrams(dialogues)\n",
    "# absolute counts for bigrams\n",
    "# print(ngrams.most_common())\n",
    "# normalise counts to be relative to the total number of conver\n",
    "total = 26\n",
    "ngrams = {k: round(v / total, 2) for k, v in ngrams.items()}\n",
    "print(ngrams)"
   ]
  },
  {
   "cell_type": "code",
   "execution_count": null,
   "metadata": {
    "collapsed": true
   },
   "outputs": [],
   "source": [
    "# evaluate against manually annotated labels\n"
   ]
  },
  {
   "cell_type": "code",
   "execution_count": null,
   "metadata": {
    "collapsed": true
   },
   "outputs": [],
   "source": [
    "# 1) count all ngrams\n"
   ]
  },
  {
   "cell_type": "code",
   "execution_count": null,
   "metadata": {
    "collapsed": true
   },
   "outputs": [],
   "source": [
    "# 1st transformation\n",
    "def find_loops(dialogues):\n",
    "    # mine loops (linear), e.g. QRQ, i.e. s[0] == s[2] -> s[0:1] is a loop\n",
    "    loops = []\n",
    "    s = ''\n",
    "    for d in 'o'.join(dialogues):\n",
    "        if d == 'o':\n",
    "            # reset pattern\n",
    "            s = ''\n",
    "            continue\n",
    "        s += d\n",
    "        if len(s) == 3:\n",
    "            # check if loop\n",
    "            if s[0] == s[2]:\n",
    "                loop = s[:2]\n",
    "                if loop not in loops:\n",
    "                    loops.append(loop)\n",
    "            # slide over\n",
    "            s = s[1:]\n",
    "    return loops\n",
    "\n",
    "loops = find_loops(dialogues)\n",
    "print(loops)"
   ]
  }
 ],
 "metadata": {
  "anaconda-cloud": {},
  "kernelspec": {
   "display_name": "Python [conda env:allennlp]",
   "language": "python",
   "name": "conda-env-allennlp-py"
  },
  "language_info": {
   "codemirror_mode": {
    "name": "ipython",
    "version": 3
   },
   "file_extension": ".py",
   "mimetype": "text/x-python",
   "name": "python",
   "nbconvert_exporter": "python",
   "pygments_lexer": "ipython3",
   "version": "3.6.2"
  }
 },
 "nbformat": 4,
 "nbformat_minor": 1
}
