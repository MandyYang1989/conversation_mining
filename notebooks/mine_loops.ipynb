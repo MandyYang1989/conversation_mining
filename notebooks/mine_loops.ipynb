{
 "cells": [
  {
   "cell_type": "code",
   "execution_count": 101,
   "metadata": {
    "collapsed": false
   },
   "outputs": [
    {
     "name": "stdout",
     "output_type": "stream",
     "text": [
      "   case ID resource     activity name   resource+activity     Sitter      New  \\\n",
      "0        1        A        greeting()        A|greeting()   A|hello*    Hello   \n",
      "1        1        U    question(data)    U|question(data)  U|request    Query   \n",
      "2        1        A    list(keywords)    A|list(keywords)    A|offer  Request   \n",
      "3        1        U     set(keywords)     U|set(keywords)  U|request    Query   \n",
      "4        1        A  prompt(keywords)  A|prompt(keywords)    A|offer  Request   \n",
      "\n",
      "     New.1  \n",
      "0    Hello  \n",
      "1    Query  \n",
      "2  Request  \n",
      "3    Query  \n",
      "4  Request  \n"
     ]
    }
   ],
   "source": [
    "# setup\n",
    "data_path = \"../data/\"\n",
    "traces_path = \"5_ode.csv\"\n",
    "\n",
    "import pandas as pd\n",
    "df = pd.read_csv(data_path+traces_path)\n",
    "print(df.head(5))\n",
    "# print(df['New'])"
   ]
  },
  {
   "cell_type": "code",
   "execution_count": 102,
   "metadata": {
    "collapsed": false
   },
   "outputs": [
    {
     "name": "stdout",
     "output_type": "stream",
     "text": [
      "26\n",
      "['QRQRQRQRQAF', 'QRFAQRQRQAF', 'QRQRQAF', 'AQRQRQRQAF', 'RQRQRQAQRQRF', 'RQRQAFRFRQRQAQRQRFRFRQAFAFA', 'QRQAQRQRFRF', 'QRQRQAQAFRFAQRFRF', 'RQAQRQAFRQAQRQA', 'QRQRQRQRQRFRQRFRFRFRQRQRQRF', 'RFRFRQRFRQAFRFRQRFRFRQRQRQRQRQRQRQA', 'QAFRF', 'QRQRQRQRQRFRFRFRFRQRQRFAQRFRF', 'QRQAQAFAFAFRFAFA', 'RQRFRQRFRFA', 'QRQRQAFRF', 'AQAAF', 'QRFRFRFRQRFRFRFRQRFRQAFRQRQAFA', 'QRQAQRFAFA', 'QRQRQAQAF', 'RQAQAF', 'RQAQRQAFRFRFRFAF', 'QRQRQRFRQAF', 'RQRQAFRQAQAFAQRFRQRFAFAFA', 'QAQAQAFRFAF', 'RFAFA']\n"
     ]
    }
   ],
   "source": [
    "# collect dialogues\n",
    "case = 0\n",
    "dialogues = []\n",
    "for index, utterance in df.iterrows():\n",
    "    if utterance['case ID'] != case:\n",
    "        dialogues.append('')\n",
    "        case = utterance['case ID']\n",
    "    elif utterance['New'] != 'Hello':\n",
    "        dialogues[-1] += utterance['New'][0]\n",
    "print(len(dialogues))\n",
    "print(dialogues)"
   ]
  },
  {
   "cell_type": "code",
   "execution_count": 118,
   "metadata": {
    "collapsed": false
   },
   "outputs": [
    {
     "name": "stdout",
     "output_type": "stream",
     "text": [
      "['QR', 'RQ', 'QA', 'FR', 'RF', 'AF', 'FA', 'AQ']\n"
     ]
    }
   ],
   "source": [
    "# 1st transformation\n",
    "def find_loops(dialogues):\n",
    "    # mine loops (linear), e.g. QRQ, i.e. s[0] == s[2] -> s[0:1] is a loop\n",
    "    loops = []\n",
    "    s = ''\n",
    "    for d in 'o'.join(dialogues):\n",
    "        if d == 'o':\n",
    "            # reset pattern\n",
    "            s = ''\n",
    "            continue\n",
    "        s += d\n",
    "        if len(s) == 3:\n",
    "            # check if loop\n",
    "            if s[0] == s[2]:\n",
    "                loop = s[:2]\n",
    "                if loop not in loops:\n",
    "                    loops.append(loop)\n",
    "            # slide over\n",
    "            s = s[1:]\n",
    "    return loops\n",
    "\n",
    "loops = find_loops(dialogues)\n",
    "print(loops)"
   ]
  },
  {
   "cell_type": "code",
   "execution_count": 133,
   "metadata": {
    "collapsed": false
   },
   "outputs": [
    {
     "name": "stdout",
     "output_type": "stream",
     "text": [
      "{'QR': 'a', 'AQ': 'b', 'FR': 'c', 'AF': 'd'}\n"
     ]
    }
   ],
   "source": [
    "# group loops (linear)\n",
    "import string\n",
    "chars = string.ascii_lowercase\n",
    "def group_loops(loops, loops_alphabet):\n",
    "    for loop in loops:\n",
    "        # normalise loop label\n",
    "        loop_label = ''.join(sorted(loop))\n",
    "        if loop_label not in loops_alphabet:\n",
    "            loops_alphabet[loop_label] = chars[len(loops_alphabet)]\n",
    "    return loops_alphabet\n",
    "\n",
    "loops_alphabet = group_loops(loops, {})\n",
    "print(loops_alphabet)"
   ]
  },
  {
   "cell_type": "code",
   "execution_count": 135,
   "metadata": {
    "collapsed": false
   },
   "outputs": [
    {
     "name": "stdout",
     "output_type": "stream",
     "text": [
      "['ad', 'adad', 'ad', 'bad', 'abaF', 'adcabacbd', 'abac', 'abcbc', 'abadabaA', 'acacaF', 'cacbcacaA', 'bc', 'acadac', 'abdcd', 'acacA', 'adc', 'bF', 'acacacbcad', 'abcd', 'abF', 'abF', 'abadcd', 'acbF', 'adabdacad', 'bcd', 'cd']\n"
     ]
    }
   ],
   "source": [
    "# replace all loops with loop ids\n",
    "def transform_log(dialogues, loops_alphabet, loops):\n",
    "    trace = ''\n",
    "    s = ''\n",
    "    last_loop = None\n",
    "    for d in 'o'.join(dialogues):\n",
    "        if last_loop and d in last_loop:\n",
    "            continue\n",
    "        last_loop = None\n",
    "        s += d\n",
    "        if s in loops:\n",
    "            loop_label = ''.join(sorted(s))\n",
    "            loop_id = str(loops_alphabet[loop_label])\n",
    "            # do not repeat loop symbols\n",
    "            if trace == '' or trace[-1] != loop_id:\n",
    "                trace += loop_id\n",
    "                last_loop = loop_label\n",
    "            s = ''\n",
    "        elif len(s) == 2:\n",
    "            trace += s[0]\n",
    "            # slide over\n",
    "            s = s[1:]\n",
    "    trace += s\n",
    "    return trace.split('o')\n",
    "        \n",
    "dialogues_2 = transform_log(dialogues, loops_alphabet, loops)\n",
    "print(dialogues_2)"
   ]
  },
  {
   "cell_type": "code",
   "execution_count": 136,
   "metadata": {
    "collapsed": false
   },
   "outputs": [
    {
     "name": "stdout",
     "output_type": "stream",
     "text": [
      "['ad', 'da', 'ab', 'bc', 'cb', 'ac', 'ca', 'dc']\n",
      "{'QR': 'a', 'AQ': 'b', 'FR': 'c', 'AF': 'd', 'ad': 'e', 'ab': 'f', 'bc': 'g', 'ac': 'h', 'cd': 'i'}\n",
      "['e', 'e', 'e', 'be', 'fF', 'ehbhbd', 'fc', 'fg', 'febaA', 'hF', 'hghA', 'g', 'hec', 'fi', 'hA', 'ec', 'bF', 'hge', 'fcd', 'fF', 'fF', 'fi', 'hbF', 'ebehd', 'gd', 'cd']\n"
     ]
    }
   ],
   "source": [
    "# 2nd transformation\n",
    "loops_2 = find_loops(dialogues_2)\n",
    "print(loops_2)\n",
    "loops_alphabet_2 = group_loops(loops_2, loops_alphabet)\n",
    "print(loops_alphabet_2)\n",
    "dialogues_3 = transform_log(dialogues_2, loops_alphabet_2, loops_2)\n",
    "print(dialogues_3)"
   ]
  },
  {
   "cell_type": "code",
   "execution_count": 141,
   "metadata": {
    "collapsed": false
   },
   "outputs": [
    {
     "name": "stdout",
     "output_type": "stream",
     "text": [
      "['hb', 'bh', 'hg', 'eb']\n",
      "{'QR': 'a', 'AQ': 'b', 'FR': 'c', 'AF': 'd', 'ad': 'e', 'ab': 'f', 'bc': 'g', 'ac': 'h', 'cd': 'i', 'bh': 'j', 'gh': 'k', 'be': 'l'}\n",
      "['e', 'e', 'e', 'be', 'fF', 'ejd', 'fc', 'fg', 'flaA', 'hF', 'kA', 'g', 'hec', 'fi', 'hA', 'ec', 'bF', 'ke', 'fcd', 'fF', 'fF', 'fi', 'jF', 'lhd', 'gd', 'cd']\n"
     ]
    }
   ],
   "source": [
    "# 3rd transformation\n",
    "loops_3 = find_loops(dialogues_3)\n",
    "print(loops_3)\n",
    "loops_alphabet_3 = group_loops(loops_3, loops_alphabet)\n",
    "print(loops_alphabet_3)\n",
    "dialogues_4 = transform_log(dialogues_3, loops_alphabet_3, loops_3)\n",
    "print(dialogues_4)"
   ]
  },
  {
   "cell_type": "code",
   "execution_count": 144,
   "metadata": {
    "collapsed": false
   },
   "outputs": [
    {
     "name": "stdout",
     "output_type": "stream",
     "text": [
      "[]\n"
     ]
    }
   ],
   "source": [
    "# 4th transformation\n",
    "loops_4 = find_loops(dialogues_4)\n",
    "print(loops_4)\n",
    "# termination"
   ]
  },
  {
   "cell_type": "code",
   "execution_count": 146,
   "metadata": {
    "collapsed": false
   },
   "outputs": [
    {
     "name": "stdout",
     "output_type": "stream",
     "text": [
      "['QRQRQRQRQAF', 'QRFAQRQRQAF', 'QRQRQAF', 'AQRQRQRQAF', 'RQRQRQAQRQRF', 'RQRQAFRFRQRQAQRQRFRFRQAFAFA', 'QRQAQRQRFRF', 'QRQRQAQAFRFAQRFRF', 'RQAQRQAFRQAQRQA', 'QRQRQRQRQRFRQRFRFRFRQRQRQRF', 'RFRFRQRFRQAFRFRQRFRFRQRQRQRQRQRQRQA', 'QAFRF', 'QRQRQRQRQRFRFRFRFRQRQRFAQRFRF', 'QRQAQAFAFAFRFAFA', 'RQRFRQRFRFA', 'QRQRQAFRF', 'AQAAF', 'QRFRFRFRQRFRFRFRQRFRQAFRQRQAFA', 'QRQAQRFAFA', 'QRQRQAQAF', 'RQAQAF', 'RQAQRQAFRFRFRFAF', 'QRQRQRFRQAF', 'RQRQAFRQAQAFAQRFRQRFAFAFA', 'QAQAQAFRFAF', 'RFAFA']\n",
      "['ad', 'adad', 'ad', 'bad', 'abaF', 'adcabacbd', 'abac', 'abcbc', 'abadabaA', 'acacaF', 'cacbcacaA', 'bc', 'acadac', 'abdcd', 'acacA', 'adc', 'bF', 'acacacbcad', 'abcd', 'abF', 'abF', 'abadcd', 'acbF', 'adabdacad', 'bcd', 'cd']\n",
      "['e', 'e', 'e', 'be', 'fF', 'ehbhbd', 'fc', 'fg', 'febaA', 'hF', 'hghA', 'g', 'hec', 'fi', 'hA', 'ec', 'bF', 'hge', 'fcd', 'fF', 'fF', 'fi', 'hbF', 'ebehd', 'gd', 'cd']\n",
      "['e', 'e', 'e', 'be', 'fF', 'ejd', 'fc', 'fg', 'flaA', 'hF', 'kA', 'g', 'hec', 'fi', 'hA', 'ec', 'bF', 'ke', 'fcd', 'fF', 'fF', 'fi', 'jF', 'lhd', 'gd', 'cd']\n",
      "{'QR': 'a', 'AQ': 'b', 'FR': 'c', 'AF': 'd', 'ad': 'e', 'ab': 'f', 'bc': 'g', 'ac': 'h', 'cd': 'i', 'bh': 'j', 'gh': 'k', 'be': 'l'}\n"
     ]
    }
   ],
   "source": [
    "# hierarchical PM\n",
    "print(dialogues)\n",
    "print(dialogues_2)\n",
    "print(dialogues_3)\n",
    "print(dialogues_4)\n",
    "print(loops_alphabet)"
   ]
  },
  {
   "cell_type": "code",
   "execution_count": 148,
   "metadata": {
    "collapsed": false
   },
   "outputs": [
    {
     "name": "stdout",
     "output_type": "stream",
     "text": [
      "['QRQRQRQRQAF', 'QRFAQRQRQAF', 'QRQRQAF', 'AQRQRQRQAF', 'RQRQRQAQRQRF', 'RQRQAFRFRQRQAQRQRFRFRQAFAFA', 'QRQAQRQRFRF', 'QRQRQAQAFRFAQRFRF', 'RQAQRQAFRQAQRQA', 'QRQRQRQRQRFRQRFRFRFRQRQRQRF', 'RFRFRQRFRQAFRFRQRFRFRQRQRQRQRQRQRQA', 'QAFRF', 'QRQRQRQRQRFRFRFRFRQRQRFAQRFRF', 'QRQAQAFAFAFRFAFA', 'RQRFRQRFRFA', 'QRQRQAFRF', 'AQAAF', 'QRFRFRFRQRFRFRFRQRFRQAFRQRQAFA', 'QRQAQRFAFA', 'QRQRQAQAF', 'RQAQAF', 'RQAQRQAFRFRFRFAF', 'QRQRQRFRQAF', 'RQRQAFRQAQAFAQRFRQRFAFAFA', 'QAQAQAFRFAF', 'RFAFA']\n",
      "['ad', 'adad', 'ad', 'bad', 'abaF', 'adcabacbd', 'abac', 'abcbc', 'abadabaA', 'acacaF', 'cacbcacaA', 'bc', 'acadac', 'abdcd', 'acacA', 'adc', 'bF', 'acacacbcad', 'abcd', 'abF', 'abF', 'abadcd', 'acbF', 'adabdacad', 'bcd', 'cd']\n",
      "['e', 'e', 'e', 'be', 'fF', 'ehbhbd', 'fc', 'fg', 'febaA', 'hF', 'hghA', 'g', 'hec', 'fi', 'hA', 'ec', 'bF', 'hge', 'fcd', 'fF', 'fF', 'fi', 'hbF', 'ebehd', 'gd', 'cd']\n",
      "['e', 'e', 'e', 'be', 'fF', 'ejd', 'fc', 'fg', 'flaA', 'hF', 'kA', 'g', 'hec', 'fi', 'hA', 'ec', 'bF', 'ke', 'fcd', 'fF', 'fF', 'fi', 'jF', 'lhd', 'gd', 'cd']\n",
      "{'QR': 'a', 'AQ': 'b', 'FR': 'c', 'AF': 'd', 'ad': 'e', 'ab': 'f', 'bc': 'g', 'ac': 'h', 'cd': 'i', 'bh': 'j', 'gh': 'k', 'be': 'l'}\n"
     ]
    }
   ],
   "source": [
    "# recursive call\n",
    "\n",
    "import string\n",
    "chars = string.ascii_lowercase\n",
    "\n",
    "def mine_simple_loops(dialogues, loops_alphabet={}): \n",
    "    # mine loops (linear), e.g. QRQ, i.e. s[0] == s[2] -> s[0:1] is a loop\n",
    "    loops = []\n",
    "    s = ''\n",
    "    for d in 'o'.join(dialogues):\n",
    "        if d == 'o':\n",
    "            # reset pattern\n",
    "            s = ''\n",
    "            continue\n",
    "        s += d\n",
    "        if len(s) == 3:\n",
    "            # check if loop\n",
    "            if s[0] == s[2]:\n",
    "                loop = s[:2]\n",
    "                if loop not in loops:\n",
    "                    loops.append(loop)\n",
    "            # slide over\n",
    "            s = s[1:]\n",
    "    if not loops:\n",
    "        return None, loops_alphabet\n",
    "\n",
    "    # group loops (linear)\n",
    "    for loop in loops:\n",
    "        # normalise loop label\n",
    "        loop_label = ''.join(sorted(loop))\n",
    "        if loop_label not in loops_alphabet:\n",
    "            loops_alphabet[loop_label] = chars[len(loops_alphabet)]\n",
    "            \n",
    "    # transform log by replacing all loops with loop ids\n",
    "    trace = ''\n",
    "    s = ''\n",
    "    last_loop = None\n",
    "    for d in 'o'.join(dialogues):\n",
    "        if last_loop and d in last_loop:\n",
    "            continue\n",
    "        last_loop = None\n",
    "        s += d\n",
    "        if s in loops:\n",
    "            loop_label = ''.join(sorted(s))\n",
    "            loop_id = str(loops_alphabet[loop_label])\n",
    "            # do not repeat loop symbols\n",
    "            if trace == '' or trace[-1] != loop_id:\n",
    "                trace += loop_id\n",
    "                last_loop = loop_label\n",
    "            s = ''\n",
    "        elif len(s) == 2:\n",
    "            trace += s[0]\n",
    "            # slide over\n",
    "            s = s[1:]\n",
    "    trace += s\n",
    "    return trace.split('o'), loops_alphabet\n",
    "\n",
    "\n",
    "def build_hpm(dialogues):\n",
    "    loops_alphabet = {}\n",
    "    hpm = []\n",
    "    while dialogues:\n",
    "        hpm.append(dialogues)\n",
    "        dialogues, loops_alphabet = mine_simple_loops(dialogues, loops_alphabet)\n",
    "    return hpm, loops_alphabet\n",
    "\n",
    "\n",
    "hpm, loops_alphabet = build_hpm(dialogues)\n",
    "for pm in hpm:\n",
    "    print(pm)\n",
    "print(loops_alphabet)"
   ]
  },
  {
   "cell_type": "code",
   "execution_count": null,
   "metadata": {
    "collapsed": true
   },
   "outputs": [],
   "source": [
    "# unwind: decode each trace"
   ]
  }
 ],
 "metadata": {
  "anaconda-cloud": {},
  "kernelspec": {
   "display_name": "Python [conda env:allennlp]",
   "language": "python",
   "name": "conda-env-allennlp-py"
  },
  "language_info": {
   "codemirror_mode": {
    "name": "ipython",
    "version": 3
   },
   "file_extension": ".py",
   "mimetype": "text/x-python",
   "name": "python",
   "nbconvert_exporter": "python",
   "pygments_lexer": "ipython3",
   "version": "3.6.2"
  }
 },
 "nbformat": 4,
 "nbformat_minor": 1
}
