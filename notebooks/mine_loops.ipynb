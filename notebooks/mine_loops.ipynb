{
 "cells": [
  {
   "cell_type": "code",
   "execution_count": 30,
   "metadata": {
    "collapsed": false
   },
   "outputs": [
    {
     "name": "stdout",
     "output_type": "stream",
     "text": [
      "   case ID resource     activity name   resource+activity     Sitter      New  \\\n",
      "0        1        A        greeting()        A|greeting()   A|hello*    Hello   \n",
      "1        1        U    question(data)    U|question(data)  U|request    Query   \n",
      "2        1        A    list(keywords)    A|list(keywords)    A|offer  Request   \n",
      "3        1        U     set(keywords)     U|set(keywords)  U|request    Query   \n",
      "4        1        A  prompt(keywords)  A|prompt(keywords)    A|offer  Request   \n",
      "\n",
      "     New.1  \n",
      "0    Hello  \n",
      "1    Query  \n",
      "2  Request  \n",
      "3    Query  \n",
      "4  Request  \n"
     ]
    }
   ],
   "source": [
    "# setup\n",
    "data_path = \"../data/\"\n",
    "traces_path = \"5_ode.csv\"\n",
    "\n",
    "import pandas as pd\n",
    "df = pd.read_csv(data_path+traces_path)\n",
    "print(df.head(5))\n",
    "# print(df['New'])"
   ]
  },
  {
   "cell_type": "code",
   "execution_count": 29,
   "metadata": {
    "collapsed": false
   },
   "outputs": [
    {
     "name": "stdout",
     "output_type": "stream",
     "text": [
      "26\n",
      "['QRQRQRQRQAF', 'QRFAQRQRQAF', 'QRQRQAF', 'AQRQRQRQAF', 'RQRQRQAQRQRF', 'RQRQAFRFRQRQAQRQRFRFRQAFAFA', 'QRQAQRQRFRF', 'QRQRQAQAFRFAQRFRF', 'RQAQRQAFRQAQRQA', 'QRQRQRQRQRFRQRFRFRFRQRQRQRF', 'RFRFRQRFRQAFRFRQRFRFRQRQRQRQRQRQRQA', 'QAFRF', 'QRQRQRQRQRFRFRFRFRQRQRFAQRFRF', 'QRQAQAFAFAFRFAFA', 'RQRFRQRFRFA', 'QRQRQAFRF', 'AQAAF', 'QRFRFRFRQRFRFRFRQRFRQAFRQRQAFA', 'QRQAQRFAFA', 'QRQRQAQAF', 'RQAQAF', 'RQAQRQAFRFRFRFAF', 'QRQRQRFRQAF', 'RQRQAFRQAQAFAQRFRQRFAFAFA', 'QAQAQAFRFAF', 'RFAFA']\n"
     ]
    }
   ],
   "source": [
    "# collect dialogues\n",
    "case = 0\n",
    "dialogues = []\n",
    "for index, utterance in df.iterrows():\n",
    "    if utterance['case ID'] != case:\n",
    "        dialogues.append('')\n",
    "        case = utterance['case ID']\n",
    "    elif utterance['New'] != 'Hello':\n",
    "        dialogues[-1] += utterance['New'][0]\n",
    "print(len(dialogues))\n",
    "print(dialogues)"
   ]
  },
  {
   "cell_type": "code",
   "execution_count": null,
   "metadata": {
    "collapsed": true
   },
   "outputs": [],
   "source": []
  }
 ],
 "metadata": {
  "anaconda-cloud": {},
  "kernelspec": {
   "display_name": "Python [conda env:allennlp]",
   "language": "python",
   "name": "conda-env-allennlp-py"
  },
  "language_info": {
   "codemirror_mode": {
    "name": "ipython",
    "version": 3
   },
   "file_extension": ".py",
   "mimetype": "text/x-python",
   "name": "python",
   "nbconvert_exporter": "python",
   "pygments_lexer": "ipython3",
   "version": "3.6.2"
  }
 },
 "nbformat": 4,
 "nbformat_minor": 1
}
