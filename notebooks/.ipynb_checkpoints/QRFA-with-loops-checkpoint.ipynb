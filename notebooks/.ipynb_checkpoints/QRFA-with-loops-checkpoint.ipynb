{
 "cells": [
  {
   "cell_type": "markdown",
   "metadata": {},
   "source": [
    "# QRFA conformance checking\n",
    "Extract the model from the MSDialog conversation transcripts annotated with intents https://ciir.cs.umass.edu/downloads/msdialog/ and compare it with the QRFA model."
   ]
  },
  {
   "cell_type": "code",
   "execution_count": 1,
   "metadata": {},
   "outputs": [
    {
     "name": "stdout",
     "output_type": "stream",
     "text": [
      "2199 dialogues in msdialog_intent\n"
     ]
    }
   ],
   "source": [
    "# set up connection to the MongoDB: sudo service mongod start (27017 is the default port)\n",
    "from pymongo import MongoClient\n",
    "\n",
    "class Mongo_Connector():\n",
    "    '''\n",
    "    Wrapper class for some of the pymongo functions: http://api.mongodb.com/python/current/tutorial.html\n",
    "    '''\n",
    "\n",
    "    def __init__(self, db_name, col_name):\n",
    "        # spin up database\n",
    "        self.mongo_client = MongoClient()\n",
    "        self.col_name = col_name\n",
    "        self.db = self.mongo_client[db_name][self.col_name]\n",
    "\n",
    "    def count_all_docs(self):\n",
    "        count = self.db.count_documents({})\n",
    "        print (\"%d dialogues in %s\" % (count, self.col_name)) \n",
    "        \n",
    "db_name = 'cm'\n",
    "col_name = 'msdialog_intent'\n",
    "# connect to MongoDB\n",
    "mongo = Mongo_Connector(db_name, col_name)\n",
    "mongo.count_all_docs()\n",
    "\n",
    "# define mapping from 12 msdialog_intent labels to QRFA\n",
    "Q = ['OQ', 'RQ', 'CQ', 'FQ']\n",
    "R = ['IR']\n",
    "F = ['PF', 'NF']\n",
    "A = ['PA']\n",
    "# skipped FD GG JK O"
   ]
  },
  {
   "cell_type": "code",
   "execution_count": 2,
   "metadata": {},
   "outputs": [
    {
     "name": "stdout",
     "output_type": "stream",
     "text": [
      "2199 traces collected\n",
      "Sample trace: ['<QAF>', '<QAQAF*>', '<QAQAQ>']\n"
     ]
    }
   ],
   "source": [
    "# 1. get traces of functional labels from MongoDB\n",
    "cursor = mongo.db.find()\n",
    "# interate over conversations and collect traces\n",
    "traces = []\n",
    "for doc in cursor:\n",
    "    # record trace as the sequence of labels\n",
    "    trace = '<'\n",
    "    for turn in doc['utterances']:\n",
    "        # map labels to QRFA annotation schema\n",
    "        labels = turn['tags'].split() \n",
    "        qrfa = [l[-1] for l in labels if l[-1] in 'QRFA']\n",
    "        if qrfa:\n",
    "            # consider only the first matched label\n",
    "            label = qrfa[0]\n",
    "        else:\n",
    "            label = '*'\n",
    "        # skip duplicate state self-loops\n",
    "        if not trace or label != trace[-1]:\n",
    "            trace += label\n",
    "    if trace:\n",
    "        traces.append(trace+'>')\n",
    "print(\"%d traces collected\"%len(traces))\n",
    "print(\"Sample trace: %s\"%traces[15:18])"
   ]
  },
  {
   "cell_type": "code",
   "execution_count": 136,
   "metadata": {},
   "outputs": [
    {
     "name": "stdout",
     "output_type": "stream",
     "text": [
      "(['>', '<', 'Q', '<Q', 'A', 'QA', '<QA', 'F', 'A>', 'AQ', '*', 'AF', 'QAQ', '<QAQ', 'QAF', 'QA>', 'R', '<QAF', 'F>', 'Q>', 'AQA', '*>', 'AF>', 'QAQA', 'QR', '<QAQA', '<QR', 'A*', 'QAF>', 'AQ>', '*A', 'AQA>', 'FA', 'QA*', 'F*', 'QAQ>', 'QAQA>', '<QA*', 'AF*', 'Q*', 'F*>', 'AFA', 'QF', 'A*>', 'RQ', 'FA>', 'QAFA', 'AF*>', 'QA*>', 'QAF*', 'RA', '*A>', 'R*', 'FQ', '<Q*', '<QAF*', '<QAFA', '*Q', 'QRQ', 'A*A', '<QRQ', 'AFA>', 'Q*A', 'QR*', 'AR', 'QAF*>', 'AQAF', 'R>', '<QR*', 'RF', 'QAR', 'AQAQ', 'FAF', 'QA*A', '<QAR', 'QAQAF', 'AFQ', 'R*A', 'QAQAQ', '<Q*A', '<QAQAQ', 'QAFA>', '*AF', '<QF', 'QF>', 'QRA', 'RQA', '<QA*A', '<QAQAF', '<R', 'QAFQ', '<QRA', '*AQ', '*F', '<QAFQ', 'AQF', '<F', 'QRF', 'FQ>', 'QR*A'], [2199, 2199, 2137, 2073, 1988, 1714, 1588, 968, 824, 757, 732, 721, 639, 608, 593, 526, 500, 494, 482, 441, 399, 369, 353, 338, 328, 322, 287, 286, 277, 270, 264, 253, 247, 241, 225, 225, 212, 204, 170, 167, 166, 155, 148, 144, 135, 133, 130, 127, 125, 123, 120, 120, 114, 114, 110, 109, 107, 102, 102, 94, 90, 89, 89, 88, 88, 88, 86, 83, 80, 79, 78, 74, 73, 73, 72, 72, 71, 69, 69, 67, 66, 66, 65, 65, 65, 63, 61, 60, 59, 58, 57, 56, 56, 54, 54, 53, 52, 52, 52, 51])\n"
     ]
    }
   ],
   "source": [
    "# 2. extract sequences frequent across multiple traces\n",
    "# https://stackoverflow.com/questions/40556491/how-to-find-the-longest-common-substring-of-multiple-strings\n",
    "\n",
    "from functools import partial, reduce\n",
    "from itertools import chain\n",
    "from typing import Iterator\n",
    "\n",
    "from collections import Counter\n",
    "\n",
    "\n",
    "def ngram(seq: str, n: int) -> Iterator[str]:\n",
    "    return (seq[i: i+n] for i in range(0, len(seq)-n+1))\n",
    "\n",
    "\n",
    "def allngram(seq: str, minn=1, maxn=None) -> Iterator[str]:\n",
    "    lengths = range(minn, maxn) if maxn else range(minn, len(seq))\n",
    "    ngrams = map(partial(ngram, seq), lengths)\n",
    "    return set(chain.from_iterable(ngrams))\n",
    "\n",
    "\n",
    "def frequent_ngrams(strings, min_support=None, topn=5):\n",
    "    \n",
    "    # 1.split traces into ngrams\n",
    "    seqs_ngrams = map(allngram, strings)\n",
    "    # 2.count ngram frequencies\n",
    "    counts = Counter(chain.from_iterable(seqs_ngrams))\n",
    "    \n",
    "#     return counts.most_common(topn)\n",
    "    # 3.filter frequent substrings\n",
    "    # set frequency threshold if not specified\n",
    "    if not min_support:\n",
    "        most_frequent_s = [s for s, count in counts.most_common(topn)]\n",
    "        # maximum frequency\n",
    "#         most_frequent1 = counts.most_common(1)[0]\n",
    "#         min_support = most_frequent1[1]\n",
    "    else:\n",
    "#         print(min_support)\n",
    "        most_frequent={string: count for string, count in counts.items() if count >= min_support}\n",
    "    #     print(most_frequent)\n",
    "        most_frequent_s = list(most_frequent.keys())\n",
    "    \n",
    "    return most_frequent_s, [counts[s] for s in most_frequent_s]\n",
    "    \n",
    "    # 4.drop substrings\n",
    "    #     most_frequent_s.sort(key=len, reverse=True)\n",
    "    #     #     print(most_frequent_s)\n",
    "    #     lfss = []\n",
    "    #     for s in most_frequent_s:\n",
    "    #         overlap = False\n",
    "    #         for lfs in lfss:\n",
    "    #             if s in lfs:\n",
    "    #                 overlap = True\n",
    "    #                 counts[lfs] += counts[s]\n",
    "    #                 break\n",
    "    #         if not overlap:\n",
    "    #             lfss.append(s)\n",
    "    #     # result: longest frequent substrings with counts\n",
    "    #     return lfss, [counts[s] for s in lfss]\n",
    "\n",
    "patterns, counts = frequent_ngrams(traces, topn=100)\n",
    "print((patterns, counts))\n",
    "# print(frequent_ngrams(traces, min_support=200))\n",
    "# @Anton check correctness + complexity analysis? is it a map-reduce scenario?"
   ]
  },
  {
   "cell_type": "code",
   "execution_count": 137,
   "metadata": {},
   "outputs": [
    {
     "name": "stdout",
     "output_type": "stream",
     "text": [
      "{'QA': 1, 'AQ': 2, 'AF': 3, 'QR': 4, 'A*': 5, 'FA': 6, 'QAF': 7, '*A': 8, 'Q*': 9}\n",
      "(['>', '<', 'Q', '<Q', 'A', 'QA', '<QA', '1', '<1', 'F', 'A>', 'AQ', '*', 'AF', 'QAF', 'QA>', '2', 'R', '<QAF', 'F>', 'Q>', '1>', '*>', 'AF>', 'QR', '<QR', 'A*', 'QAF>', 'AQ>', '*A', '2>', 'FA', 'QA*', 'F*', '<QA*', '3', 'AF*', 'Q*', 'F*>', 'Q3', 'QF', 'A*>', '<Q3', 'RQ', 'FA>', 'AF*>', 'QA*>', 'QAF*', 'RA', '*A>', '1F', 'R*', 'FQ', '<Q*', '<QAF*', '*Q', '4', '<1F', '5', '<4', '3>', 'Q*A', 'QR*', 'AR', 'QAF*>', '2F', 'R>', '<QR*', 'RF', 'QAR', '6', 'Q5', '<QAR', 'AFQ', 'R*A', '<Q*A', 'Q3>', '*AF', '<QF', 'QF>', 'QRA', 'RQA', '<Q5', '<R', '7', '<QRA', '*AQ', '*F', '<7', 'AQF', '<F', 'QRF', 'FQ>', 'QR*A', '5>', '2F>', '*Q>', '<QR*A', 'RQ>', '<QRF', 'AQ*', 'RA>', '4A', '1F>', 'QFA', 'Q*>', '1*', 'Q5>', '<RA', 'RAQ', '<4A', 'FAQ', 'FQA', '4>', 'QR>', 'AR>', '*F>', 'AFQ>', 'AQR', '<FA', 'Q*A>', 'QAR>', '8', '*2', '*R', '*QA', '6>', 'RQA>', 'RF>', '<1*', '7>', 'RAF', '*AF>', 'A*Q', '9', 'AQF>'], [2199, 2199, 2137, 2073, 1988, 1714, 1588, 1084, 1033, 968, 824, 757, 732, 721, 593, 526, 515, 500, 494, 482, 441, 437, 369, 353, 328, 287, 286, 277, 270, 264, 253, 247, 241, 225, 204, 197, 170, 167, 166, 165, 148, 144, 138, 135, 133, 127, 125, 123, 120, 120, 118, 114, 114, 110, 109, 102, 102, 96, 94, 90, 89, 89, 88, 88, 88, 86, 83, 80, 79, 78, 73, 73, 72, 71, 69, 67, 66, 65, 65, 65, 63, 61, 60, 58, 57, 56, 56, 54, 54, 53, 52, 52, 52, 51, 51, 50, 49, 48, 47, 46, 45, 45, 45, 44, 41, 41, 39, 39, 38, 38, 38, 38, 37, 37, 37, 36, 34, 34, 34, 34, 34, 34, 33, 32, 31, 31, 30, 30, 30, 29, 29, 28, 28, 28, 28, 28])\n"
     ]
    }
   ],
   "source": [
    "# group repeating chars into loops with () symbols\n",
    "from collections import defaultdict\n",
    "\n",
    "def frequent_loops(traces, topn=500):\n",
    "    '''\n",
    "    collect frequent patterns with loops\n",
    "    '''\n",
    "    # get frequent ngram patterns\n",
    "    patterns, counts = frequent_ngrams(traces, topn=topn)\n",
    "    \n",
    "    loop_patterns = Counter()\n",
    "    loop_patterns_num = {}\n",
    "    loops = defaultdict(int)\n",
    "    loop_ids = {}\n",
    "    n_loops = 0\n",
    "    for i, pattern in enumerate(patterns):\n",
    "        loop_pattern, loop_pattern_num = \"\", \"\"\n",
    "        for c in pattern:\n",
    "            if c not in loop_pattern:\n",
    "                loop_pattern += c\n",
    "                loop_pattern_num += c\n",
    "            else:\n",
    "                loop_start_idx = loop_pattern.index(c)\n",
    "                loop = ''.join([c for c in loop_pattern[loop_start_idx:] if c not in '()'])\n",
    "                if len(loop) > 1:\n",
    "                    loop_set = loop\n",
    "    #                 loop_set = \"\".join(set(loop))\n",
    "                    if loop_set not in loops:\n",
    "                        n_loops += 1\n",
    "                        loops[loop_set] += counts[i]\n",
    "                        loop_ids[loop_set] = n_loops\n",
    "                    loop_pattern = ''.join([c for c in loop_pattern[:loop_start_idx] if c not in '()']) + \"(%s)\" % loop\n",
    "                    loop_pattern_num = ''.join([c for c in loop_pattern[:loop_start_idx] if c not in '()']) + str(loop_ids[loop_set])\n",
    "    #     if not numeric and loop_pattern != pattern:\n",
    "    #         print(pattern)\n",
    "    #         print (loop_pattern)\n",
    "    #         print('\\n')\n",
    "    #     if loop_pattern_num:\n",
    "        loop_patterns_num[loop_pattern] = loop_pattern_num\n",
    "        loop_patterns[loop_pattern] += counts[i]\n",
    "#     print((list(loop_patterns.keys()), list(loop_patterns.values())))\n",
    "#     print(loops)\n",
    "    print(loop_ids)\n",
    "    patterns_w_loop_ids = [loop_patterns_num[p] if p in loop_patterns_num else p for p, c in loop_patterns.most_common()]\n",
    "    counts = [c for p, c in loop_patterns.most_common()]\n",
    "    return patterns_w_loop_ids, counts\n",
    "\n",
    "a, b = frequent_loops(traces, topn=150)\n",
    "print((a, b))"
   ]
  },
  {
   "cell_type": "code",
   "execution_count": 138,
   "metadata": {},
   "outputs": [
    {
     "name": "stdout",
     "output_type": "stream",
     "text": [
      "{'QA': 1, 'AQ': 2, 'AF': 3, 'QR': 4, 'A*': 5, 'FA': 6, 'QAF': 7, '*A': 8, 'Q*': 9}\n"
     ]
    }
   ],
   "source": [
    "# dump patterns\n",
    "import csv\n",
    "# a, b = frequent_ngrams(traces, topn=500)\n",
    "a, b = frequent_loops(traces, topn=150)\n",
    "with open(\"sample_frequent_loops.csv\", 'w') as csvfile:\n",
    "    results_writer = csv.writer(csvfile, delimiter=',', quotechar='|', quoting=csv.QUOTE_MINIMAL)\n",
    "    results_writer.writerow(a)\n",
    "    results_writer.writerow(b)"
   ]
  },
  {
   "cell_type": "code",
   "execution_count": 57,
   "metadata": {},
   "outputs": [
    {
     "data": {
      "text/plain": [
       "[('!<*A>!<QR*>!<QA>!<Q*AQA>', 15216),\n",
       " ('!<*A>!<QRQR>!<QAF>!<QRAQ*A>!<QAQ*A>!<QAF>!<QAF>!<QAFAFAF>!<QRAQA>!<QAQ>!<QA>!<QAF>!<FAF>!<QAF>!<QAF>!<Q>!<QA>!<QA*F>!<F*QAQAQAF>!<QAQA>!<QAQAFAQ>!<QA>!<QAQAQAQA>!<QAF>!<QAFQ>!<QA>!<QAQ>!<QAQ>!<QA>!<QAQARF>!<QA>!<QAFAQA>!<QAF*>!<QA*A>!<QA>!<QR*AF*>!<QAFQ>!<QA>!<QA>!<QA*>!<QA>!<Q*>!<QRF*>!<QAQRF*>!<QAQ>!<QAF>!<QAQA>!<*A>!<QR*>!<QA>!<Q*AQA>',\n",
       "  14901)]"
      ]
     },
     "execution_count": 57,
     "metadata": {},
     "output_type": "execute_result"
    }
   ],
   "source": [
    "# @Anton alternative algorithm: suffix array -> LCP array\n",
    "def suffix_array_oneliner(s):\n",
    "    return [(suffix, rank) for suffix, rank in sorted((s[i:], i) for i in range(len(s)))]\n",
    "\n",
    "suffix_array_oneliner('!'.join(traces))[:2]\n",
    "# TODO longest common prefix (LCP) array"
   ]
  },
  {
   "cell_type": "code",
   "execution_count": null,
   "metadata": {},
   "outputs": [],
   "source": [
    "# 3. aggregate frequent sequences\n",
    "# https://en.wikipedia.org/wiki/Knapsack_problem LP or greedy optimization\n",
    "# Constraints: (1) size - at most n patterns; (2) length (tree depth) - at most k symbols per pattern;\n",
    "# (3) completeness - each component must begin with a start symbol and end with the end symbol;\n",
    "# (4) at most k loops per component\n"
   ]
  },
  {
   "cell_type": "code",
   "execution_count": null,
   "metadata": {},
   "outputs": [],
   "source": [
    "# 4. compare the models"
   ]
  }
 ],
 "metadata": {
  "kernelspec": {
   "display_name": "Python 3",
   "language": "python",
   "name": "python3"
  },
  "language_info": {
   "codemirror_mode": {
    "name": "ipython",
    "version": 3
   },
   "file_extension": ".py",
   "mimetype": "text/x-python",
   "name": "python",
   "nbconvert_exporter": "python",
   "pygments_lexer": "ipython3",
   "version": "3.6.5"
  }
 },
 "nbformat": 4,
 "nbformat_minor": 2
}
