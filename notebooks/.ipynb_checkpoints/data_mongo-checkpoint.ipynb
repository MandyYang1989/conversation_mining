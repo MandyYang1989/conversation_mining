{
 "cells": [
  {
   "cell_type": "markdown",
   "metadata": {},
   "source": [
    "# Process Dialogue Datasets using MongoDB\n",
    "\n",
    "* DSTC6 https://dbd-challenge.github.io/dbdc3/index.html\n",
    "* MSDialog dataset https://ciir.cs.umass.edu/downloads/msdialog/"
   ]
  },
  {
   "cell_type": "code",
   "execution_count": 69,
   "metadata": {},
   "outputs": [
    {
     "name": "stdout",
     "output_type": "stream",
     "text": [
      "Connection success.\n"
     ]
    }
   ],
   "source": [
    "# set up connection to the MongoDB: sudo service mongod start (27017 is the default port)\n",
    "from pymongo import MongoClient\n",
    "import json\n",
    "\n",
    "class Mongo_Connector():\n",
    "    '''\n",
    "    Wrapper class for some of the pymongo functions: http://api.mongodb.com/python/current/tutorial.html\n",
    "    '''\n",
    "\n",
    "    def __init__(self, db_name):\n",
    "        # spin up database\n",
    "        self.mongo_client = MongoClient()\n",
    "        self.db = self.mongo_client[db_name]\n",
    "        print(\"Connection success.\")\n",
    "    \n",
    "    def count_all_docs(self, collection_name):\n",
    "        count = self.db[collection_name].count_documents({})\n",
    "        print (\"%d dialogues in %s\" % (count, collection_name))\n",
    "    \n",
    "    def bulk_load(self, collection_name, json_file_path, chunk_size=1000):\n",
    "        '''\n",
    "        Imports a big dataset from a single JSON file\n",
    "        '''\n",
    "        # load JSON\n",
    "        with open(json_file_path) as f:\n",
    "            all_docs = json.loads(f.read())\n",
    "        \n",
    "        n_docs = len(all_docs)\n",
    "        print(\"Loading %d dialogues\"%n_docs)\n",
    "                \n",
    "        # iterate over the docs\n",
    "        chunk = []\n",
    "        for _id, dialogue in all_docs.items():\n",
    "            dialogue['_id'] = _id\n",
    "            chunk.append(dialogue)\n",
    "            if len(chunk) == chunk_size:\n",
    "                # insert chunk   \n",
    "                self.db[collection_name].insert_many(chunk)\n",
    "                chunk = []\n",
    "        # insert the last chunk\n",
    "        if chunk:\n",
    "            self.db[collection_name].insert_many(chunk)\n",
    "\n",
    "        # show the doc counter\n",
    "        self.count_all_docs(collection_name)\n",
    "\n",
    "\n",
    "db_name = 'cm'\n",
    "mongo = Mongo_Connector(db_name)"
   ]
  },
  {
   "cell_type": "markdown",
   "metadata": {},
   "source": [
    "## MSDialog"
   ]
  },
  {
   "cell_type": "code",
   "execution_count": 71,
   "metadata": {},
   "outputs": [
    {
     "name": "stdout",
     "output_type": "stream",
     "text": [
      "35536 dialogues in msdialog\n"
     ]
    }
   ],
   "source": [
    "loaded = True\n",
    "if not loaded:\n",
    "    # load MSDialog dataset\n",
    "    msdialog_path = \"/home/shared/cm_data/MSDialog/MSDialog-Complete.json\"\n",
    "    mongo.bulk_load('msdialog', msdialog_path)\n",
    "else:\n",
    "    mongo.count_all_docs('msdialog')"
   ]
  },
  {
   "cell_type": "code",
   "execution_count": 76,
   "metadata": {},
   "outputs": [
    {
     "name": "stdout",
     "output_type": "stream",
     "text": [
      "User: I have Windows 10, version 1511, OS Build 10586.1106. For the past year I have tried to upgrade from this without success. Upgrades download OK but on installing only get to 85 - 93 % and then on restart install previous version of windows (the 1511 version) I have Windows update assistant installed. Any help or advice on this would be most welcome. Amber\n",
      "Agent: >> I have Windows 10, version 1511, OS Build 10586.1106  Please answer-by-number, preferably without quoting my post:  1. When (approx. date) did you purchase the computer?  2. Did the computer come with Win10 preinstalled, did you do a clean install of Win10, or did you upgrade a Win7 computer or a Win8.1 computer [<=PICK ONE!] to Win10?  3. Who manufactured the computer (e.g., Dell; HP; Acer; Lenovo; ASUS)?  4. Has a Norton application or a McAfee application EVER been installed on the computer since you bought it?  5. Have you ever run the Norton Removal Tool and/or the McAfee Consumer Products Removal Tool?  6. Is it the same computer - not the same problem - as in your 19 February 2016 thread? ..\n",
      "User: Hi, 1. 2013 2.Upgraded from Windows 8.1 3. Custom built by Cyberpower. 4. Norton Internet Security 5. Yes, Norton 6. Yes\n",
      "Agent: 1. When (exact date) does your current Norton subscription expire (or auto-renew)?  2. In File Explorer [WinKey+E], navigate to & right-click on:   Select PROPERTIES: What's the CREATED date displayed on the resulting GENERAL tab?  3. When (approx. date) was the last time you downloaded & ran the Norton Removal Tool (not the Norton Uninstall and Reinstall tool)?  4. Has the Anniversary Update (i.e., Win10 1607) or the Creators Update (i.e., Win10 1703) ever been offered to the computer via Windows Update? [<=that's JUST a question, NOT a suggestion!]  ~~~~~~~~~~~~~~~~~~~~~~~~~~~~~~~~~~~~~~~~  Note: Windows 10 version 1511 end of service for Current Branch (CB) and Current Branch for Business (CBB) will occur on 10 October 2017. See https://support.microsoft.com/kb/4036927\n",
      "User: Hi,  1. 20th September 2018 2. 15th October 2015 3. Cannot remember, but not in last 6 months. 4. Yes, both been offered and failed to install as well.  Amber\n",
      "Agent: Assuming you (auto-)renewed your Norton subscription a few weeks ago...  If you (a) uninstall the Norton application, (b) download/run the Norton Removal Tool (followed by a reboot), (c) make certain that Windows Defender & Firewall are both enabled, (d) do a clean install of the Norton application (without enabling/installing ANY toolbars or add-ons for the time being!), and then (e) reset Windows Update using the script (BAT file) in this tutorial (followed by another reboot), does Anniversary Update or Creators Update successfully install when you run a manual check for updates?    • HOW TO Run a manual check for updates in Win10      http://www.tenforums.com/tutorials/4807-windows-update-check-install-windows-10-a.html\n",
      "User: Hi,  Cannot run the Norton Removal tool, coming up saying the version I have has expired.  Amber\n"
     ]
    }
   ],
   "source": [
    "# show a sampe dialogue\n",
    "sample_doc = mongo.db['msdialog'].find_one()\n",
    "for turn in sample_doc['utterances']:\n",
    "    print (\"%s: %s\"% (turn['actor_type'], turn['utterance']))"
   ]
  },
  {
   "cell_type": "markdown",
   "metadata": {},
   "source": [
    "## DSTC6"
   ]
  },
  {
   "cell_type": "code",
   "execution_count": 74,
   "metadata": {},
   "outputs": [
    {
     "name": "stdout",
     "output_type": "stream",
     "text": [
      "100 dialogues in dstc6\n"
     ]
    }
   ],
   "source": [
    "# first 100 dialogues from /home/shared/cm_data/IRIS_json_data were inserted using the shell script utils/mongo_import.sh\n",
    "mongo.count_all_docs('dstc6')"
   ]
  },
  {
   "cell_type": "code",
   "execution_count": 75,
   "metadata": {},
   "outputs": [
    {
     "name": "stdout",
     "output_type": "stream",
     "text": [
      "U: Hi Alex\n",
      "S: Hi.\n",
      "U: can you say something different?\n",
      "S: How different?\n",
      "U: very different please\n",
      "S: What you reading?\n",
      "U: harry potter\n",
      "S: 'Mr. Potter...\n",
      "U: yes, have you read it?\n",
      "S: No. Not yet. Soon.\n",
      "U: ok, good luck with it\n",
      "S: You're right. It's OK. I just want it to be OK.\n",
      "U: not necessarily, it can be wrong too\n",
      "S: No. No way. Not a chance. I'd rather turn myself in than die.\n",
      "U: you are an smart dude\n",
      "S: But why fake your death? Why go through all of it?\n",
      "U: because it is funny\n",
      "S: He looks like a carrot, honey.\n",
      "U: what!!!!\n",
      "S: Zordon... he's gone.\n"
     ]
    }
   ],
   "source": [
    "# show a sampe dialogue\n",
    "sample_doc = mongo.db['dstc6'].find_one()\n",
    "for turn in sample_doc['turns']:\n",
    "    print (\"%s: %s\"% (turn['speaker'], turn['utterance']))"
   ]
  }
 ],
 "metadata": {
  "kernelspec": {
   "display_name": "Python 3",
   "language": "python",
   "name": "python3"
  },
  "language_info": {
   "codemirror_mode": {
    "name": "ipython",
    "version": 3
   },
   "file_extension": ".py",
   "mimetype": "text/x-python",
   "name": "python",
   "nbconvert_exporter": "python",
   "pygments_lexer": "ipython3",
   "version": "3.6.5"
  }
 },
 "nbformat": 4,
 "nbformat_minor": 2
}
