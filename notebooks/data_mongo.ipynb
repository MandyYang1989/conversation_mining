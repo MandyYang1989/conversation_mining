{
 "cells": [
  {
   "cell_type": "markdown",
   "metadata": {},
   "source": [
    "# Process Dialogue Datasets using MongoDB\n",
    "\n",
    "* MSDialog dataset https://ciir.cs.umass.edu/downloads/msdialog/\n",
    "* DSTC6 https://dbd-challenge.github.io/dbdc3/index.html\n",
    "\n",
    "Imported one file from DSTC6 /home/shared/cm_data/IRIS_json_data using shell script utils/mongo_import.sh"
   ]
  },
  {
   "cell_type": "code",
   "execution_count": 13,
   "metadata": {},
   "outputs": [
    {
     "name": "stdout",
     "output_type": "stream",
     "text": [
      "100 dialogues in dstc6\n"
     ]
    }
   ],
   "source": [
    "# set up connection to the MongoDB: sudo service mongod start (27017 is the default port)\n",
    "from pymongo import MongoClient\n",
    "\n",
    "class Mongo_Connector():\n",
    "    '''\n",
    "    Wrapper class for some of the pymongo functions: http://api.mongodb.com/python/current/tutorial.html\n",
    "    '''\n",
    "\n",
    "    def __init__(self, db_name, collection_name):\n",
    "        # spin up database\n",
    "        self.mongo_client = MongoClient()\n",
    "        self.db = self.mongo_client[db_name]\n",
    "        self.col = self.db[collection_name]\n",
    "    \n",
    "    def count_all_docs(self):\n",
    "        return self.col.count_documents({})\n",
    "\n",
    "    \n",
    "db_name = 'cm'\n",
    "collection_name = 'dstc6'\n",
    "mongo = Mongo_Connector(db_name, collection_name)\n",
    "print (\"%d dialogues in %s\" % (mongo.count_all_docs(), collection_name))"
   ]
  },
  {
   "cell_type": "code",
   "execution_count": 18,
   "metadata": {},
   "outputs": [
    {
     "name": "stdout",
     "output_type": "stream",
     "text": [
      "U: Hi Alex\n",
      "S: Hi.\n",
      "U: can you say something different?\n",
      "S: How different?\n",
      "U: very different please\n",
      "S: What you reading?\n",
      "U: harry potter\n",
      "S: 'Mr. Potter...\n",
      "U: yes, have you read it?\n",
      "S: No. Not yet. Soon.\n",
      "U: ok, good luck with it\n",
      "S: You're right. It's OK. I just want it to be OK.\n",
      "U: not necessarily, it can be wrong too\n",
      "S: No. No way. Not a chance. I'd rather turn myself in than die.\n",
      "U: you are an smart dude\n",
      "S: But why fake your death? Why go through all of it?\n",
      "U: because it is funny\n",
      "S: He looks like a carrot, honey.\n",
      "U: what!!!!\n",
      "S: Zordon... he's gone.\n"
     ]
    }
   ],
   "source": [
    "# show a sampe dstc6 dialogue\n",
    "sample_doc = mongo.col.find_one()\n",
    "for turn in sample_doc['turns']:\n",
    "    print (\"%s: %s\"% (turn['speaker'], turn['utterance']))"
   ]
  },
  {
   "cell_type": "code",
   "execution_count": null,
   "metadata": {},
   "outputs": [],
   "source": []
  }
 ],
 "metadata": {
  "kernelspec": {
   "display_name": "tf36",
   "language": "python",
   "name": "tf36"
  },
  "language_info": {
   "codemirror_mode": {
    "name": "ipython",
    "version": 3
   },
   "file_extension": ".py",
   "mimetype": "text/x-python",
   "name": "python",
   "nbconvert_exporter": "python",
   "pygments_lexer": "ipython3",
   "version": "3.6.6"
  }
 },
 "nbformat": 4,
 "nbformat_minor": 2
}
